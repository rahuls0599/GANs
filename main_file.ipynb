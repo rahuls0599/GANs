{
  "nbformat": 4,
  "nbformat_minor": 0,
  "metadata": {
    "accelerator": "GPU",
    "colab": {
      "name": "ch17-basic-GAN.ipynb",
      "provenance": [],
      "collapsed_sections": []
    },
    "kernelspec": {
      "name": "python3",
      "display_name": "Python 3"
    },
    "language_info": {
      "codemirror_mode": {
        "name": "ipython",
        "version": 3
      },
      "file_extension": ".py",
      "mimetype": "text/x-python",
      "name": "python",
      "nbconvert_exporter": "python",
      "pygments_lexer": "ipython3",
      "version": "3.7.5"
    },
    "widgets": {
      "application/vnd.jupyter.widget-state+json": {
        "4be91b99941f45e68ce1c42c9323fb41": {
          "model_module": "@jupyter-widgets/controls",
          "model_name": "HBoxModel",
          "state": {
            "_view_name": "HBoxView",
            "_dom_classes": [],
            "_model_name": "HBoxModel",
            "_view_module": "@jupyter-widgets/controls",
            "_model_module_version": "1.5.0",
            "_view_count": null,
            "_view_module_version": "1.5.0",
            "box_style": "",
            "layout": "IPY_MODEL_dc7f1083343340c393d1c7c96ae5aebf",
            "_model_module": "@jupyter-widgets/controls",
            "children": [
              "IPY_MODEL_ec29ad98664d485d98ff834966cc31e4",
              "IPY_MODEL_e8c679d30507476ea00d941ffbe050bd"
            ]
          }
        },
        "dc7f1083343340c393d1c7c96ae5aebf": {
          "model_module": "@jupyter-widgets/base",
          "model_name": "LayoutModel",
          "state": {
            "_view_name": "LayoutView",
            "grid_template_rows": null,
            "right": null,
            "justify_content": null,
            "_view_module": "@jupyter-widgets/base",
            "overflow": null,
            "_model_module_version": "1.2.0",
            "_view_count": null,
            "flex_flow": null,
            "width": null,
            "min_width": null,
            "border": null,
            "align_items": null,
            "bottom": null,
            "_model_module": "@jupyter-widgets/base",
            "top": null,
            "grid_column": null,
            "overflow_y": null,
            "overflow_x": null,
            "grid_auto_flow": null,
            "grid_area": null,
            "grid_template_columns": null,
            "flex": null,
            "_model_name": "LayoutModel",
            "justify_items": null,
            "grid_row": null,
            "max_height": null,
            "align_content": null,
            "visibility": null,
            "align_self": null,
            "height": null,
            "min_height": null,
            "padding": null,
            "grid_auto_rows": null,
            "grid_gap": null,
            "max_width": null,
            "order": null,
            "_view_module_version": "1.2.0",
            "grid_template_areas": null,
            "object_position": null,
            "object_fit": null,
            "grid_auto_columns": null,
            "margin": null,
            "display": null,
            "left": null
          }
        },
        "ec29ad98664d485d98ff834966cc31e4": {
          "model_module": "@jupyter-widgets/controls",
          "model_name": "IntProgressModel",
          "state": {
            "_view_name": "ProgressView",
            "style": "IPY_MODEL_5a273e94560947f8ab6e19cf63bfab72",
            "_dom_classes": [],
            "description": "Dl Completed...",
            "_model_name": "IntProgressModel",
            "bar_style": "success",
            "max": 4,
            "_view_module": "@jupyter-widgets/controls",
            "_model_module_version": "1.5.0",
            "value": 4,
            "_view_count": null,
            "_view_module_version": "1.5.0",
            "orientation": "horizontal",
            "min": 0,
            "description_tooltip": null,
            "_model_module": "@jupyter-widgets/controls",
            "layout": "IPY_MODEL_1854cee01fab4a2dae7b01743b3d604c"
          }
        },
        "e8c679d30507476ea00d941ffbe050bd": {
          "model_module": "@jupyter-widgets/controls",
          "model_name": "HTMLModel",
          "state": {
            "_view_name": "HTMLView",
            "style": "IPY_MODEL_65ea302b77774d22b2854b244313d588",
            "_dom_classes": [],
            "description": "",
            "_model_name": "HTMLModel",
            "placeholder": "​",
            "_view_module": "@jupyter-widgets/controls",
            "_model_module_version": "1.5.0",
            "value": "100% 4/4 [00:00&lt;00:00,  5.97 file/s]",
            "_view_count": null,
            "_view_module_version": "1.5.0",
            "description_tooltip": null,
            "_model_module": "@jupyter-widgets/controls",
            "layout": "IPY_MODEL_8f1d12296f4846a687f9b58ffd246049"
          }
        },
        "5a273e94560947f8ab6e19cf63bfab72": {
          "model_module": "@jupyter-widgets/controls",
          "model_name": "ProgressStyleModel",
          "state": {
            "_view_name": "StyleView",
            "_model_name": "ProgressStyleModel",
            "description_width": "initial",
            "_view_module": "@jupyter-widgets/base",
            "_model_module_version": "1.5.0",
            "_view_count": null,
            "_view_module_version": "1.2.0",
            "bar_color": null,
            "_model_module": "@jupyter-widgets/controls"
          }
        },
        "1854cee01fab4a2dae7b01743b3d604c": {
          "model_module": "@jupyter-widgets/base",
          "model_name": "LayoutModel",
          "state": {
            "_view_name": "LayoutView",
            "grid_template_rows": null,
            "right": null,
            "justify_content": null,
            "_view_module": "@jupyter-widgets/base",
            "overflow": null,
            "_model_module_version": "1.2.0",
            "_view_count": null,
            "flex_flow": null,
            "width": null,
            "min_width": null,
            "border": null,
            "align_items": null,
            "bottom": null,
            "_model_module": "@jupyter-widgets/base",
            "top": null,
            "grid_column": null,
            "overflow_y": null,
            "overflow_x": null,
            "grid_auto_flow": null,
            "grid_area": null,
            "grid_template_columns": null,
            "flex": null,
            "_model_name": "LayoutModel",
            "justify_items": null,
            "grid_row": null,
            "max_height": null,
            "align_content": null,
            "visibility": null,
            "align_self": null,
            "height": null,
            "min_height": null,
            "padding": null,
            "grid_auto_rows": null,
            "grid_gap": null,
            "max_width": null,
            "order": null,
            "_view_module_version": "1.2.0",
            "grid_template_areas": null,
            "object_position": null,
            "object_fit": null,
            "grid_auto_columns": null,
            "margin": null,
            "display": null,
            "left": null
          }
        },
        "65ea302b77774d22b2854b244313d588": {
          "model_module": "@jupyter-widgets/controls",
          "model_name": "DescriptionStyleModel",
          "state": {
            "_view_name": "StyleView",
            "_model_name": "DescriptionStyleModel",
            "description_width": "",
            "_view_module": "@jupyter-widgets/base",
            "_model_module_version": "1.5.0",
            "_view_count": null,
            "_view_module_version": "1.2.0",
            "_model_module": "@jupyter-widgets/controls"
          }
        },
        "8f1d12296f4846a687f9b58ffd246049": {
          "model_module": "@jupyter-widgets/base",
          "model_name": "LayoutModel",
          "state": {
            "_view_name": "LayoutView",
            "grid_template_rows": null,
            "right": null,
            "justify_content": null,
            "_view_module": "@jupyter-widgets/base",
            "overflow": null,
            "_model_module_version": "1.2.0",
            "_view_count": null,
            "flex_flow": null,
            "width": null,
            "min_width": null,
            "border": null,
            "align_items": null,
            "bottom": null,
            "_model_module": "@jupyter-widgets/base",
            "top": null,
            "grid_column": null,
            "overflow_y": null,
            "overflow_x": null,
            "grid_auto_flow": null,
            "grid_area": null,
            "grid_template_columns": null,
            "flex": null,
            "_model_name": "LayoutModel",
            "justify_items": null,
            "grid_row": null,
            "max_height": null,
            "align_content": null,
            "visibility": null,
            "align_self": null,
            "height": null,
            "min_height": null,
            "padding": null,
            "grid_auto_rows": null,
            "grid_gap": null,
            "max_width": null,
            "order": null,
            "_view_module_version": "1.2.0",
            "grid_template_areas": null,
            "object_position": null,
            "object_fit": null,
            "grid_auto_columns": null,
            "margin": null,
            "display": null,
            "left": null
          }
        }
      }
    }
  },
  "cells": [
    {
      "cell_type": "markdown",
      "metadata": {
        "id": "uqxKlPfXtWKC",
        "colab_type": "text"
      },
      "source": [
        "# Implementing a GAN from scratch\n"
      ]
    },
    {
      "cell_type": "markdown",
      "metadata": {
        "id": "ikKMZN6ltWKD",
        "colab_type": "text"
      },
      "source": [
        "## Training GAN models on Google Colab"
      ]
    },
    {
      "cell_type": "code",
      "metadata": {
        "colab_type": "code",
        "id": "8ytj8tX3vxJ0",
        "colab": {}
      },
      "source": [
        "# Uncomment the following line if running this notebook on Google Colab\n",
        "#! pip install -q tensorflow-gpu==2.0.0"
      ],
      "execution_count": 0,
      "outputs": []
    },
    {
      "cell_type": "code",
      "metadata": {
        "colab_type": "code",
        "id": "_khN3hi1xxQ-",
        "outputId": "7d7660bd-4511-4e70-bc05-d13c5b2deb21",
        "colab": {
          "base_uri": "https://localhost:8080/",
          "height": 68
        }
      },
      "source": [
        "%tensorflow_version 2.x\n",
        "import tensorflow as tf\n",
        "print(tf.__version__)\n",
        "\n",
        "print(\"GPU Available:\", tf.test.is_gpu_available())\n",
        "\n",
        "if tf.config.list_physical_devices('GPU'):\n",
        "    device_name = tf.test.gpu_device_name()\n",
        "\n",
        "else:\n",
        "    device_name = 'cpu:0'\n",
        "    \n",
        "print(device_name)"
      ],
      "execution_count": 3,
      "outputs": [
        {
          "output_type": "stream",
          "text": [
            "2.1.0\n",
            "GPU Available: True\n",
            "/device:GPU:0\n"
          ],
          "name": "stdout"
        }
      ]
    },
    {
      "cell_type": "markdown",
      "metadata": {
        "id": "bS2a_XQRtWKj",
        "colab_type": "text"
      },
      "source": [
        "## Implementing the generator and the discriminator networks "
      ]
    },
    {
      "cell_type": "code",
      "metadata": {
        "colab_type": "code",
        "id": "FRh8E66HwXRL",
        "colab": {}
      },
      "source": [
        "import tensorflow as tf\n",
        "import tensorflow_datasets as tfds\n",
        "import numpy as np\n",
        "import matplotlib.pyplot as plt\n",
        "%matplotlib inline"
      ],
      "execution_count": 0,
      "outputs": []
    },
    {
      "cell_type": "code",
      "metadata": {
        "colab_type": "code",
        "id": "tOL56FmXwoL-",
        "colab": {}
      },
      "source": [
        "## define a function for the generator:\n",
        "def make_generator_network(\n",
        "        num_hidden_layers=1,\n",
        "        num_hidden_units=100,\n",
        "        num_output_units=784):\n",
        "    model = tf.keras.Sequential()\n",
        "    for i in range(num_hidden_layers):\n",
        "        model.add(\n",
        "            tf.keras.layers.Dense(\n",
        "                units=num_hidden_units, \n",
        "                use_bias=False)\n",
        "            )\n",
        "        model.add(tf.keras.layers.LeakyReLU())\n",
        "        \n",
        "    model.add(tf.keras.layers.Dense(\n",
        "        units=num_output_units, activation='tanh'))\n",
        "    return model\n",
        "\n",
        "## define a function for the discriminator:\n",
        "def make_discriminator_network(\n",
        "        num_hidden_layers=1,\n",
        "        num_hidden_units=100,\n",
        "        num_output_units=1):\n",
        "    model = tf.keras.Sequential()\n",
        "    for i in range(num_hidden_layers):\n",
        "        model.add(tf.keras.layers.Dense(units=num_hidden_units))\n",
        "        model.add(tf.keras.layers.LeakyReLU())\n",
        "        model.add(tf.keras.layers.Dropout(rate=0.5))\n",
        "        \n",
        "    model.add(\n",
        "        tf.keras.layers.Dense(\n",
        "            units=num_output_units, \n",
        "            activation=None)\n",
        "        )\n",
        "    return model"
      ],
      "execution_count": 0,
      "outputs": []
    },
    {
      "cell_type": "code",
      "metadata": {
        "colab_type": "code",
        "id": "9Z4JQb9MxD5p",
        "outputId": "56567ced-5e30-4336-e2c4-7acdc876086e",
        "colab": {
          "base_uri": "https://localhost:8080/",
          "height": 255
        }
      },
      "source": [
        "image_size = (28, 28)\n",
        "z_size = 20\n",
        "mode_z = 'uniform'  # 'uniform' vs. 'normal'\n",
        "gen_hidden_layers = 1\n",
        "gen_hidden_size = 100\n",
        "disc_hidden_layers = 1\n",
        "disc_hidden_size = 100\n",
        "\n",
        "tf.random.set_seed(1)\n",
        "\n",
        "gen_model = make_generator_network(\n",
        "    num_hidden_layers=gen_hidden_layers, \n",
        "    num_hidden_units=gen_hidden_size,\n",
        "    num_output_units=np.prod(image_size))\n",
        "\n",
        "gen_model.build(input_shape=(None, z_size))\n",
        "gen_model.summary()"
      ],
      "execution_count": 6,
      "outputs": [
        {
          "output_type": "stream",
          "text": [
            "Model: \"sequential\"\n",
            "_________________________________________________________________\n",
            "Layer (type)                 Output Shape              Param #   \n",
            "=================================================================\n",
            "dense (Dense)                multiple                  2000      \n",
            "_________________________________________________________________\n",
            "leaky_re_lu (LeakyReLU)      multiple                  0         \n",
            "_________________________________________________________________\n",
            "dense_1 (Dense)              multiple                  79184     \n",
            "=================================================================\n",
            "Total params: 81,184\n",
            "Trainable params: 81,184\n",
            "Non-trainable params: 0\n",
            "_________________________________________________________________\n"
          ],
          "name": "stdout"
        }
      ]
    },
    {
      "cell_type": "code",
      "metadata": {
        "colab_type": "code",
        "id": "QAhbOUZHxN1b",
        "outputId": "ab615a8c-d677-4ba1-8d03-d583f97853a0",
        "colab": {
          "base_uri": "https://localhost:8080/",
          "height": 289
        }
      },
      "source": [
        "disc_model = make_discriminator_network(\n",
        "    num_hidden_layers=disc_hidden_layers,\n",
        "    num_hidden_units=disc_hidden_size)\n",
        "\n",
        "disc_model.build(input_shape=(None, np.prod(image_size)))\n",
        "disc_model.summary()"
      ],
      "execution_count": 7,
      "outputs": [
        {
          "output_type": "stream",
          "text": [
            "Model: \"sequential_1\"\n",
            "_________________________________________________________________\n",
            "Layer (type)                 Output Shape              Param #   \n",
            "=================================================================\n",
            "dense_2 (Dense)              multiple                  78500     \n",
            "_________________________________________________________________\n",
            "leaky_re_lu_1 (LeakyReLU)    multiple                  0         \n",
            "_________________________________________________________________\n",
            "dropout (Dropout)            multiple                  0         \n",
            "_________________________________________________________________\n",
            "dense_3 (Dense)              multiple                  101       \n",
            "=================================================================\n",
            "Total params: 78,601\n",
            "Trainable params: 78,601\n",
            "Non-trainable params: 0\n",
            "_________________________________________________________________\n"
          ],
          "name": "stdout"
        }
      ]
    },
    {
      "cell_type": "markdown",
      "metadata": {
        "id": "VmclNjULtWLA",
        "colab_type": "text"
      },
      "source": [
        "## Defining the training dataset"
      ]
    },
    {
      "cell_type": "code",
      "metadata": {
        "colab_type": "code",
        "id": "ApQ1ICJixf2w",
        "outputId": "8a59d699-c54d-4964-a7a3-96e61833bf7c",
        "colab": {
          "base_uri": "https://localhost:8080/",
          "height": 270,
          "referenced_widgets": [
            "4be91b99941f45e68ce1c42c9323fb41",
            "dc7f1083343340c393d1c7c96ae5aebf",
            "ec29ad98664d485d98ff834966cc31e4",
            "e8c679d30507476ea00d941ffbe050bd",
            "5a273e94560947f8ab6e19cf63bfab72",
            "1854cee01fab4a2dae7b01743b3d604c",
            "65ea302b77774d22b2854b244313d588",
            "8f1d12296f4846a687f9b58ffd246049"
          ]
        }
      },
      "source": [
        "mnist_bldr = tfds.builder('mnist')\n",
        "mnist_bldr.download_and_prepare()\n",
        "mnist = mnist_bldr.as_dataset(shuffle_files=False)\n",
        "\n",
        "def preprocess(ex, mode='uniform'):\n",
        "    image = ex['image']\n",
        "    image = tf.image.convert_image_dtype(image, tf.float32)\n",
        "    image = tf.reshape(image, [-1])\n",
        "    image = image*2 - 1.0\n",
        "    if mode == 'uniform':\n",
        "        input_z = tf.random.uniform(\n",
        "            shape=(z_size,), minval=-1.0, maxval=1.0)\n",
        "    elif mode == 'normal':\n",
        "        input_z = tf.random.normal(shape=(z_size,))\n",
        "    return input_z, image\n",
        "\n",
        "\n",
        "\n",
        "mnist_trainset = mnist['train']\n",
        "\n",
        "print('Before preprocessing:  ')\n",
        "example = next(iter(mnist_trainset))['image']\n",
        "print('dtype: ', example.dtype, ' Min: {} Max: {}'.format(np.min(example), np.max(example)))\n",
        "\n",
        "mnist_trainset = mnist_trainset.map(preprocess)\n",
        "\n",
        "print('After preprocessing:  ')\n",
        "example = next(iter(mnist_trainset))[0]\n",
        "print('dtype: ', example.dtype, ' Min: {} Max: {}'.format(np.min(example), np.max(example)))"
      ],
      "execution_count": 8,
      "outputs": [
        {
          "output_type": "stream",
          "text": [
            "\u001b[1mDownloading and preparing dataset mnist/3.0.0 (download: 11.06 MiB, generated: Unknown size, total: 11.06 MiB) to /root/tensorflow_datasets/mnist/3.0.0...\u001b[0m\n"
          ],
          "name": "stdout"
        },
        {
          "output_type": "stream",
          "text": [
            "WARNING:absl:Dataset mnist is hosted on GCS. It will automatically be downloaded to your\n",
            "local data directory. If you'd instead prefer to read directly from our public\n",
            "GCS bucket (recommended if you're running on GCP), you can instead set\n",
            "data_dir=gs://tfds-data/datasets.\n",
            "\n"
          ],
          "name": "stderr"
        },
        {
          "output_type": "display_data",
          "data": {
            "application/vnd.jupyter.widget-view+json": {
              "model_id": "4be91b99941f45e68ce1c42c9323fb41",
              "version_minor": 0,
              "version_major": 2
            },
            "text/plain": [
              "HBox(children=(IntProgress(value=0, description='Dl Completed...', max=4, style=ProgressStyle(description_widt…"
            ]
          },
          "metadata": {
            "tags": []
          }
        },
        {
          "output_type": "stream",
          "text": [
            "\n",
            "\n",
            "\u001b[1mDataset mnist downloaded and prepared to /root/tensorflow_datasets/mnist/3.0.0. Subsequent calls will reuse this data.\u001b[0m\n",
            "Before preprocessing:  \n",
            "dtype:  <dtype: 'uint8'>  Min: 0 Max: 255\n",
            "After preprocessing:  \n",
            "dtype:  <dtype: 'float32'>  Min: -0.6264450550079346 Max: 0.9958574771881104\n"
          ],
          "name": "stdout"
        }
      ]
    },
    {
      "cell_type": "markdown",
      "metadata": {
        "colab_type": "text",
        "id": "HT57CGAz0RDr"
      },
      "source": [
        " * **Step-by-step walk through the data-flow**"
      ]
    },
    {
      "cell_type": "code",
      "metadata": {
        "colab_type": "code",
        "id": "kdAXXUtryFGs",
        "outputId": "05edfd93-879d-4db7-ce35-4560befa5648",
        "colab": {
          "base_uri": "https://localhost:8080/",
          "height": 102
        }
      },
      "source": [
        "mnist_trainset = mnist_trainset.batch(32, drop_remainder=True)\n",
        "input_z, input_real = next(iter(mnist_trainset))\n",
        "print('input-z -- shape:', input_z.shape)\n",
        "print('input-real -- shape:', input_real.shape)\n",
        "\n",
        "g_output = gen_model(input_z)\n",
        "print('Output of G -- shape:', g_output.shape)\n",
        "\n",
        "d_logits_real = disc_model(input_real)\n",
        "d_logits_fake = disc_model(g_output)\n",
        "print('Disc. (real) -- shape:', d_logits_real.shape)\n",
        "print('Disc. (fake) -- shape:', d_logits_fake.shape)"
      ],
      "execution_count": 9,
      "outputs": [
        {
          "output_type": "stream",
          "text": [
            "input-z -- shape: (32, 20)\n",
            "input-real -- shape: (32, 784)\n",
            "Output of G -- shape: (32, 784)\n",
            "Disc. (real) -- shape: (32, 1)\n",
            "Disc. (fake) -- shape: (32, 1)\n"
          ],
          "name": "stdout"
        }
      ]
    },
    {
      "cell_type": "markdown",
      "metadata": {
        "id": "8CBZpOjGtWLK",
        "colab_type": "text"
      },
      "source": [
        "## Training the GAN model"
      ]
    },
    {
      "cell_type": "code",
      "metadata": {
        "colab_type": "code",
        "id": "-c9xVvjJySZk",
        "outputId": "5b46e935-fba7-4582-ef84-268b14d90160",
        "colab": {
          "base_uri": "https://localhost:8080/",
          "height": 51
        }
      },
      "source": [
        "loss_fn = tf.keras.losses.BinaryCrossentropy(from_logits=True)\n",
        "\n",
        "## Loss for the Generator\n",
        "g_labels_real = tf.ones_like(d_logits_fake)\n",
        "g_loss = loss_fn(y_true=g_labels_real, y_pred=d_logits_fake)\n",
        "print('Generator Loss: {:.4f}'.format(g_loss))\n",
        "\n",
        "## Loss for the Discriminator\n",
        "d_labels_real = tf.ones_like(d_logits_real)\n",
        "d_labels_fake = tf.zeros_like(d_logits_fake)\n",
        "\n",
        "d_loss_real = loss_fn(y_true=d_labels_real, y_pred=d_logits_real)\n",
        "d_loss_fake = loss_fn(y_true=d_labels_fake, y_pred=d_logits_fake)\n",
        "print('Discriminator Losses: Real {:.4f} Fake {:.4f}'\n",
        "      .format(d_loss_real.numpy(), d_loss_fake.numpy()))\n"
      ],
      "execution_count": 10,
      "outputs": [
        {
          "output_type": "stream",
          "text": [
            "Generator Loss: 0.7505\n",
            "Discriminator Losses: Real 1.5073 Fake 0.6434\n"
          ],
          "name": "stdout"
        }
      ]
    },
    {
      "cell_type": "markdown",
      "metadata": {
        "colab_type": "text",
        "id": "jtxdTVyF0KCF"
      },
      "source": [
        " * **Final training**"
      ]
    },
    {
      "cell_type": "code",
      "metadata": {
        "colab_type": "code",
        "id": "yeFKLGNfAF5J",
        "outputId": "6c389712-f313-4652-e4b4-84917a5e86f1",
        "colab": {
          "base_uri": "https://localhost:8080/",
          "height": 1000
        }
      },
      "source": [
        "import time\n",
        "\n",
        "\n",
        "num_epochs = 100\n",
        "batch_size = 64\n",
        "image_size = (28, 28)\n",
        "z_size = 20\n",
        "mode_z = 'uniform'\n",
        "gen_hidden_layers = 1\n",
        "gen_hidden_size = 100\n",
        "disc_hidden_layers = 1\n",
        "disc_hidden_size = 100\n",
        "\n",
        "tf.random.set_seed(1)\n",
        "np.random.seed(1)\n",
        "\n",
        "\n",
        "if mode_z == 'uniform':\n",
        "    fixed_z = tf.random.uniform(\n",
        "        shape=(batch_size, z_size),\n",
        "        minval=-1, maxval=1)\n",
        "elif mode_z == 'normal':\n",
        "    fixed_z = tf.random.normal(\n",
        "        shape=(batch_size, z_size))\n",
        "\n",
        "\n",
        "def create_samples(g_model, input_z):\n",
        "    g_output = g_model(input_z, training=False)\n",
        "    images = tf.reshape(g_output, (batch_size, *image_size))    \n",
        "    return (images+1)/2.0\n",
        "\n",
        "## Set-up the dataset\n",
        "mnist_trainset = mnist['train']\n",
        "mnist_trainset = mnist_trainset.map(\n",
        "    lambda ex: preprocess(ex, mode=mode_z))\n",
        "\n",
        "mnist_trainset = mnist_trainset.shuffle(10000)\n",
        "mnist_trainset = mnist_trainset.batch(\n",
        "    batch_size, drop_remainder=True)\n",
        "\n",
        "## Set-up the model\n",
        "with tf.device(device_name):\n",
        "    gen_model = make_generator_network(\n",
        "        num_hidden_layers=gen_hidden_layers, \n",
        "        num_hidden_units=gen_hidden_size,\n",
        "        num_output_units=np.prod(image_size))\n",
        "    gen_model.build(input_shape=(None, z_size))\n",
        "\n",
        "    disc_model = make_discriminator_network(\n",
        "        num_hidden_layers=disc_hidden_layers,\n",
        "        num_hidden_units=disc_hidden_size)\n",
        "    disc_model.build(input_shape=(None, np.prod(image_size)))\n",
        "\n",
        "## Loss function and optimizers:\n",
        "loss_fn = tf.keras.losses.BinaryCrossentropy(from_logits=True)\n",
        "g_optimizer = tf.keras.optimizers.Adam()\n",
        "d_optimizer = tf.keras.optimizers.Adam()\n",
        "\n",
        "all_losses = []\n",
        "all_d_vals = []\n",
        "epoch_samples = []\n",
        "\n",
        "start_time = time.time()\n",
        "for epoch in range(1, num_epochs+1):\n",
        "    epoch_losses, epoch_d_vals = [], []\n",
        "    for i,(input_z,input_real) in enumerate(mnist_trainset):\n",
        "        \n",
        "        ## Compute generator's loss\n",
        "        with tf.GradientTape() as g_tape:\n",
        "            g_output = gen_model(input_z)\n",
        "            d_logits_fake = disc_model(g_output, training=True)\n",
        "            labels_real = tf.ones_like(d_logits_fake)\n",
        "            g_loss = loss_fn(y_true=labels_real, y_pred=d_logits_fake)\n",
        "            \n",
        "        g_grads = g_tape.gradient(g_loss, gen_model.trainable_variables)\n",
        "        g_optimizer.apply_gradients(\n",
        "            grads_and_vars=zip(g_grads, gen_model.trainable_variables))\n",
        "\n",
        "        ## Compute discriminator's loss\n",
        "        with tf.GradientTape() as d_tape:\n",
        "            d_logits_real = disc_model(input_real, training=True)\n",
        "\n",
        "            d_labels_real = tf.ones_like(d_logits_real)\n",
        "            \n",
        "            d_loss_real = loss_fn(\n",
        "                y_true=d_labels_real, y_pred=d_logits_real)\n",
        "\n",
        "            d_logits_fake = disc_model(g_output, training=True)\n",
        "            d_labels_fake = tf.zeros_like(d_logits_fake)\n",
        "\n",
        "            d_loss_fake = loss_fn(\n",
        "                y_true=d_labels_fake, y_pred=d_logits_fake)\n",
        "\n",
        "            d_loss = d_loss_real + d_loss_fake\n",
        "\n",
        "        ## Compute the gradients of d_loss\n",
        "        d_grads = d_tape.gradient(d_loss, disc_model.trainable_variables)\n",
        "        \n",
        "        ## Optimization: Apply the gradients\n",
        "        d_optimizer.apply_gradients(\n",
        "            grads_and_vars=zip(d_grads, disc_model.trainable_variables))\n",
        "                           \n",
        "        epoch_losses.append(\n",
        "            (g_loss.numpy(), d_loss.numpy(), \n",
        "             d_loss_real.numpy(), d_loss_fake.numpy()))\n",
        "        \n",
        "        d_probs_real = tf.reduce_mean(tf.sigmoid(d_logits_real))\n",
        "        d_probs_fake = tf.reduce_mean(tf.sigmoid(d_logits_fake))\n",
        "        epoch_d_vals.append((d_probs_real.numpy(), d_probs_fake.numpy()))        \n",
        "    all_losses.append(epoch_losses)\n",
        "    all_d_vals.append(epoch_d_vals)\n",
        "    print(\n",
        "        'Epoch {:03d} | ET {:.2f} min | Avg Losses >>'\n",
        "        ' G/D {:.4f}/{:.4f} [D-Real: {:.4f} D-Fake: {:.4f}]'\n",
        "        .format(\n",
        "            epoch, (time.time() - start_time)/60, \n",
        "            *list(np.mean(all_losses[-1], axis=0))))\n",
        "    epoch_samples.append(\n",
        "        create_samples(gen_model, fixed_z).numpy())"
      ],
      "execution_count": 11,
      "outputs": [
        {
          "output_type": "stream",
          "text": [
            "Epoch 001 | ET 0.53 min | Avg Losses >> G/D 2.9735/0.2859 [D-Real: 0.0319 D-Fake: 0.2541]\n",
            "Epoch 002 | ET 1.06 min | Avg Losses >> G/D 5.0282/0.3253 [D-Real: 0.1081 D-Fake: 0.2173]\n",
            "Epoch 003 | ET 1.61 min | Avg Losses >> G/D 3.5401/0.6704 [D-Real: 0.3000 D-Fake: 0.3704]\n",
            "Epoch 004 | ET 2.16 min | Avg Losses >> G/D 1.7834/0.9328 [D-Real: 0.4966 D-Fake: 0.4362]\n",
            "Epoch 005 | ET 2.70 min | Avg Losses >> G/D 2.0021/0.8567 [D-Real: 0.4522 D-Fake: 0.4045]\n",
            "Epoch 006 | ET 3.26 min | Avg Losses >> G/D 1.7744/0.9187 [D-Real: 0.4961 D-Fake: 0.4226]\n",
            "Epoch 007 | ET 3.80 min | Avg Losses >> G/D 1.6814/0.9833 [D-Real: 0.5210 D-Fake: 0.4623]\n",
            "Epoch 008 | ET 4.34 min | Avg Losses >> G/D 1.4520/1.0032 [D-Real: 0.5431 D-Fake: 0.4601]\n",
            "Epoch 009 | ET 4.89 min | Avg Losses >> G/D 1.4627/1.0241 [D-Real: 0.5568 D-Fake: 0.4673]\n",
            "Epoch 010 | ET 5.45 min | Avg Losses >> G/D 1.2601/1.1237 [D-Real: 0.5949 D-Fake: 0.5288]\n",
            "Epoch 011 | ET 6.01 min | Avg Losses >> G/D 1.4226/1.0325 [D-Real: 0.5513 D-Fake: 0.4813]\n",
            "Epoch 012 | ET 6.57 min | Avg Losses >> G/D 1.4265/1.0944 [D-Real: 0.5684 D-Fake: 0.5260]\n",
            "Epoch 013 | ET 7.12 min | Avg Losses >> G/D 1.2366/1.1129 [D-Real: 0.5882 D-Fake: 0.5247]\n",
            "Epoch 014 | ET 7.67 min | Avg Losses >> G/D 1.1998/1.1289 [D-Real: 0.5938 D-Fake: 0.5351]\n",
            "Epoch 015 | ET 8.23 min | Avg Losses >> G/D 1.3119/1.1262 [D-Real: 0.5837 D-Fake: 0.5425]\n",
            "Epoch 016 | ET 8.79 min | Avg Losses >> G/D 1.1578/1.1963 [D-Real: 0.6151 D-Fake: 0.5812]\n",
            "Epoch 017 | ET 9.34 min | Avg Losses >> G/D 1.1249/1.1849 [D-Real: 0.6124 D-Fake: 0.5726]\n",
            "Epoch 018 | ET 9.90 min | Avg Losses >> G/D 1.0995/1.2055 [D-Real: 0.6202 D-Fake: 0.5853]\n",
            "Epoch 019 | ET 10.47 min | Avg Losses >> G/D 1.1295/1.2282 [D-Real: 0.6216 D-Fake: 0.6066]\n",
            "Epoch 020 | ET 11.03 min | Avg Losses >> G/D 1.1431/1.1934 [D-Real: 0.6137 D-Fake: 0.5797]\n",
            "Epoch 021 | ET 11.59 min | Avg Losses >> G/D 1.1133/1.1830 [D-Real: 0.6086 D-Fake: 0.5744]\n",
            "Epoch 022 | ET 12.15 min | Avg Losses >> G/D 1.0965/1.2180 [D-Real: 0.6225 D-Fake: 0.5956]\n",
            "Epoch 023 | ET 12.73 min | Avg Losses >> G/D 1.1278/1.1956 [D-Real: 0.6100 D-Fake: 0.5856]\n",
            "Epoch 024 | ET 13.27 min | Avg Losses >> G/D 1.1031/1.2076 [D-Real: 0.6163 D-Fake: 0.5913]\n",
            "Epoch 025 | ET 13.84 min | Avg Losses >> G/D 1.0799/1.2074 [D-Real: 0.6167 D-Fake: 0.5907]\n",
            "Epoch 026 | ET 14.39 min | Avg Losses >> G/D 1.0820/1.2068 [D-Real: 0.6150 D-Fake: 0.5918]\n",
            "Epoch 027 | ET 14.96 min | Avg Losses >> G/D 1.0962/1.2112 [D-Real: 0.6133 D-Fake: 0.5980]\n",
            "Epoch 028 | ET 15.51 min | Avg Losses >> G/D 1.0834/1.2242 [D-Real: 0.6223 D-Fake: 0.6019]\n",
            "Epoch 029 | ET 16.07 min | Avg Losses >> G/D 1.0820/1.2125 [D-Real: 0.6158 D-Fake: 0.5967]\n",
            "Epoch 030 | ET 16.63 min | Avg Losses >> G/D 1.0369/1.2394 [D-Real: 0.6257 D-Fake: 0.6138]\n",
            "Epoch 031 | ET 17.18 min | Avg Losses >> G/D 0.9928/1.2535 [D-Real: 0.6354 D-Fake: 0.6180]\n",
            "Epoch 032 | ET 17.74 min | Avg Losses >> G/D 1.0396/1.2290 [D-Real: 0.6249 D-Fake: 0.6041]\n",
            "Epoch 033 | ET 18.30 min | Avg Losses >> G/D 1.0785/1.2300 [D-Real: 0.6200 D-Fake: 0.6099]\n",
            "Epoch 034 | ET 18.88 min | Avg Losses >> G/D 1.0386/1.2627 [D-Real: 0.6335 D-Fake: 0.6292]\n",
            "Epoch 035 | ET 19.43 min | Avg Losses >> G/D 1.0044/1.2614 [D-Real: 0.6371 D-Fake: 0.6243]\n",
            "Epoch 036 | ET 19.99 min | Avg Losses >> G/D 0.9635/1.2666 [D-Real: 0.6447 D-Fake: 0.6219]\n",
            "Epoch 037 | ET 20.56 min | Avg Losses >> G/D 0.9958/1.2638 [D-Real: 0.6382 D-Fake: 0.6256]\n",
            "Epoch 038 | ET 21.12 min | Avg Losses >> G/D 1.0327/1.2590 [D-Real: 0.6359 D-Fake: 0.6231]\n",
            "Epoch 039 | ET 21.68 min | Avg Losses >> G/D 0.9978/1.2746 [D-Real: 0.6403 D-Fake: 0.6343]\n",
            "Epoch 040 | ET 22.25 min | Avg Losses >> G/D 0.9272/1.2929 [D-Real: 0.6505 D-Fake: 0.6424]\n",
            "Epoch 041 | ET 22.81 min | Avg Losses >> G/D 0.9825/1.2794 [D-Real: 0.6414 D-Fake: 0.6380]\n",
            "Epoch 042 | ET 23.37 min | Avg Losses >> G/D 1.0103/1.2844 [D-Real: 0.6438 D-Fake: 0.6406]\n",
            "Epoch 043 | ET 23.93 min | Avg Losses >> G/D 0.9356/1.3004 [D-Real: 0.6539 D-Fake: 0.6466]\n",
            "Epoch 044 | ET 24.49 min | Avg Losses >> G/D 0.9577/1.3002 [D-Real: 0.6524 D-Fake: 0.6478]\n",
            "Epoch 045 | ET 25.03 min | Avg Losses >> G/D 0.9777/1.2855 [D-Real: 0.6449 D-Fake: 0.6406]\n",
            "Epoch 046 | ET 25.57 min | Avg Losses >> G/D 0.9240/1.3051 [D-Real: 0.6573 D-Fake: 0.6478]\n",
            "Epoch 047 | ET 26.12 min | Avg Losses >> G/D 0.9606/1.2990 [D-Real: 0.6515 D-Fake: 0.6475]\n",
            "Epoch 048 | ET 26.66 min | Avg Losses >> G/D 0.9510/1.2982 [D-Real: 0.6532 D-Fake: 0.6450]\n",
            "Epoch 049 | ET 27.20 min | Avg Losses >> G/D 0.9316/1.3030 [D-Real: 0.6526 D-Fake: 0.6504]\n",
            "Epoch 050 | ET 27.73 min | Avg Losses >> G/D 0.9350/1.2992 [D-Real: 0.6512 D-Fake: 0.6480]\n",
            "Epoch 051 | ET 28.26 min | Avg Losses >> G/D 0.9327/1.2991 [D-Real: 0.6535 D-Fake: 0.6456]\n",
            "Epoch 052 | ET 28.79 min | Avg Losses >> G/D 0.9794/1.2891 [D-Real: 0.6456 D-Fake: 0.6436]\n",
            "Epoch 053 | ET 29.34 min | Avg Losses >> G/D 0.9823/1.2845 [D-Real: 0.6434 D-Fake: 0.6411]\n",
            "Epoch 054 | ET 29.87 min | Avg Losses >> G/D 0.9019/1.2965 [D-Real: 0.6549 D-Fake: 0.6416]\n",
            "Epoch 055 | ET 30.39 min | Avg Losses >> G/D 0.9347/1.2969 [D-Real: 0.6512 D-Fake: 0.6457]\n",
            "Epoch 056 | ET 30.92 min | Avg Losses >> G/D 0.9817/1.2889 [D-Real: 0.6460 D-Fake: 0.6429]\n",
            "Epoch 057 | ET 31.46 min | Avg Losses >> G/D 0.9344/1.2990 [D-Real: 0.6541 D-Fake: 0.6449]\n",
            "Epoch 058 | ET 31.99 min | Avg Losses >> G/D 0.9379/1.3021 [D-Real: 0.6528 D-Fake: 0.6492]\n",
            "Epoch 059 | ET 32.51 min | Avg Losses >> G/D 0.9404/1.3047 [D-Real: 0.6550 D-Fake: 0.6497]\n",
            "Epoch 060 | ET 33.04 min | Avg Losses >> G/D 0.8905/1.3119 [D-Real: 0.6595 D-Fake: 0.6524]\n",
            "Epoch 061 | ET 33.59 min | Avg Losses >> G/D 0.9397/1.3098 [D-Real: 0.6556 D-Fake: 0.6542]\n",
            "Epoch 062 | ET 34.14 min | Avg Losses >> G/D 0.9478/1.3034 [D-Real: 0.6538 D-Fake: 0.6496]\n",
            "Epoch 063 | ET 34.69 min | Avg Losses >> G/D 0.8683/1.3227 [D-Real: 0.6679 D-Fake: 0.6548]\n",
            "Epoch 064 | ET 35.23 min | Avg Losses >> G/D 0.9268/1.3203 [D-Real: 0.6588 D-Fake: 0.6615]\n",
            "Epoch 065 | ET 35.78 min | Avg Losses >> G/D 0.9537/1.2927 [D-Real: 0.6504 D-Fake: 0.6423]\n",
            "Epoch 066 | ET 36.32 min | Avg Losses >> G/D 0.9521/1.2954 [D-Real: 0.6496 D-Fake: 0.6459]\n",
            "Epoch 067 | ET 36.85 min | Avg Losses >> G/D 0.8808/1.3250 [D-Real: 0.6660 D-Fake: 0.6590]\n",
            "Epoch 068 | ET 37.38 min | Avg Losses >> G/D 0.9547/1.3061 [D-Real: 0.6533 D-Fake: 0.6528]\n",
            "Epoch 069 | ET 37.92 min | Avg Losses >> G/D 0.9199/1.3121 [D-Real: 0.6576 D-Fake: 0.6545]\n",
            "Epoch 070 | ET 38.44 min | Avg Losses >> G/D 0.9155/1.3102 [D-Real: 0.6569 D-Fake: 0.6533]\n",
            "Epoch 071 | ET 38.97 min | Avg Losses >> G/D 0.9133/1.3143 [D-Real: 0.6602 D-Fake: 0.6542]\n",
            "Epoch 072 | ET 39.52 min | Avg Losses >> G/D 0.9252/1.3165 [D-Real: 0.6585 D-Fake: 0.6580]\n",
            "Epoch 073 | ET 40.05 min | Avg Losses >> G/D 0.9042/1.3226 [D-Real: 0.6613 D-Fake: 0.6614]\n",
            "Epoch 074 | ET 40.60 min | Avg Losses >> G/D 0.9090/1.3190 [D-Real: 0.6599 D-Fake: 0.6591]\n",
            "Epoch 075 | ET 41.13 min | Avg Losses >> G/D 0.9128/1.3125 [D-Real: 0.6608 D-Fake: 0.6517]\n",
            "Epoch 076 | ET 41.67 min | Avg Losses >> G/D 0.9146/1.3096 [D-Real: 0.6567 D-Fake: 0.6529]\n",
            "Epoch 077 | ET 42.19 min | Avg Losses >> G/D 0.9301/1.3220 [D-Real: 0.6615 D-Fake: 0.6605]\n",
            "Epoch 078 | ET 42.73 min | Avg Losses >> G/D 0.9313/1.3089 [D-Real: 0.6568 D-Fake: 0.6521]\n",
            "Epoch 079 | ET 43.26 min | Avg Losses >> G/D 0.8674/1.3272 [D-Real: 0.6677 D-Fake: 0.6595]\n",
            "Epoch 080 | ET 43.80 min | Avg Losses >> G/D 0.9222/1.3235 [D-Real: 0.6620 D-Fake: 0.6615]\n",
            "Epoch 081 | ET 44.33 min | Avg Losses >> G/D 0.9224/1.3144 [D-Real: 0.6601 D-Fake: 0.6543]\n",
            "Epoch 082 | ET 44.87 min | Avg Losses >> G/D 0.8901/1.3213 [D-Real: 0.6624 D-Fake: 0.6589]\n",
            "Epoch 083 | ET 45.40 min | Avg Losses >> G/D 0.9439/1.3258 [D-Real: 0.6622 D-Fake: 0.6636]\n",
            "Epoch 084 | ET 45.94 min | Avg Losses >> G/D 0.9107/1.3105 [D-Real: 0.6579 D-Fake: 0.6526]\n",
            "Epoch 085 | ET 46.47 min | Avg Losses >> G/D 0.8980/1.3176 [D-Real: 0.6621 D-Fake: 0.6555]\n",
            "Epoch 086 | ET 47.00 min | Avg Losses >> G/D 0.9262/1.3151 [D-Real: 0.6599 D-Fake: 0.6552]\n",
            "Epoch 087 | ET 47.53 min | Avg Losses >> G/D 0.9139/1.3115 [D-Real: 0.6579 D-Fake: 0.6537]\n",
            "Epoch 088 | ET 48.06 min | Avg Losses >> G/D 0.9509/1.3012 [D-Real: 0.6521 D-Fake: 0.6490]\n",
            "Epoch 089 | ET 48.59 min | Avg Losses >> G/D 0.8978/1.3165 [D-Real: 0.6592 D-Fake: 0.6573]\n",
            "Epoch 090 | ET 49.11 min | Avg Losses >> G/D 0.8991/1.3232 [D-Real: 0.6626 D-Fake: 0.6606]\n",
            "Epoch 091 | ET 49.65 min | Avg Losses >> G/D 0.9325/1.3056 [D-Real: 0.6545 D-Fake: 0.6512]\n",
            "Epoch 092 | ET 50.19 min | Avg Losses >> G/D 0.8943/1.3293 [D-Real: 0.6680 D-Fake: 0.6613]\n",
            "Epoch 093 | ET 50.72 min | Avg Losses >> G/D 0.9188/1.3151 [D-Real: 0.6603 D-Fake: 0.6548]\n",
            "Epoch 094 | ET 51.26 min | Avg Losses >> G/D 0.8988/1.3207 [D-Real: 0.6639 D-Fake: 0.6568]\n",
            "Epoch 095 | ET 51.81 min | Avg Losses >> G/D 0.9249/1.3140 [D-Real: 0.6585 D-Fake: 0.6554]\n",
            "Epoch 096 | ET 52.36 min | Avg Losses >> G/D 0.9220/1.3112 [D-Real: 0.6589 D-Fake: 0.6522]\n",
            "Epoch 097 | ET 52.90 min | Avg Losses >> G/D 0.8892/1.3158 [D-Real: 0.6618 D-Fake: 0.6540]\n",
            "Epoch 098 | ET 53.45 min | Avg Losses >> G/D 0.9248/1.3234 [D-Real: 0.6639 D-Fake: 0.6594]\n",
            "Epoch 099 | ET 54.00 min | Avg Losses >> G/D 0.9482/1.3075 [D-Real: 0.6554 D-Fake: 0.6520]\n",
            "Epoch 100 | ET 54.54 min | Avg Losses >> G/D 0.9036/1.3185 [D-Real: 0.6619 D-Fake: 0.6566]\n"
          ],
          "name": "stdout"
        }
      ]
    },
    {
      "cell_type": "code",
      "metadata": {
        "colab_type": "code",
        "id": "TQyQ8deLaHmw",
        "outputId": "1dec88a0-e19c-4f5f-bb3d-232d8e79c83c",
        "colab": {
          "base_uri": "https://localhost:8080/",
          "height": 458
        }
      },
      "source": [
        "import itertools\n",
        "\n",
        "\n",
        "fig = plt.figure(figsize=(16, 6))\n",
        "\n",
        "## Plotting the losses\n",
        "ax = fig.add_subplot(1, 2, 1)\n",
        "g_losses = [item[0] for item in itertools.chain(*all_losses)]\n",
        "d_losses = [item[1]/2.0 for item in itertools.chain(*all_losses)]\n",
        "plt.plot(g_losses, label='Generator loss', alpha=0.95)\n",
        "plt.plot(d_losses, label='Discriminator loss', alpha=0.95)\n",
        "plt.legend(fontsize=20)\n",
        "ax.set_xlabel('Iteration', size=15)\n",
        "ax.set_ylabel('Loss', size=15)\n",
        "\n",
        "epochs = np.arange(1, 101)\n",
        "epoch2iter = lambda e: e*len(all_losses[-1])\n",
        "epoch_ticks = [1, 20, 40, 60, 80, 100]\n",
        "newpos = [epoch2iter(e) for e in epoch_ticks]\n",
        "ax2 = ax.twiny()\n",
        "ax2.set_xticks(newpos)\n",
        "ax2.set_xticklabels(epoch_ticks)\n",
        "ax2.xaxis.set_ticks_position('bottom')\n",
        "ax2.xaxis.set_label_position('bottom')\n",
        "ax2.spines['bottom'].set_position(('outward', 60))\n",
        "ax2.set_xlabel('Epoch', size=15)\n",
        "ax2.set_xlim(ax.get_xlim())\n",
        "ax.tick_params(axis='both', which='major', labelsize=15)\n",
        "ax2.tick_params(axis='both', which='major', labelsize=15)\n",
        "\n",
        "## Plotting the outputs of the discriminator\n",
        "ax = fig.add_subplot(1, 2, 2)\n",
        "d_vals_real = [item[0] for item in itertools.chain(*all_d_vals)]\n",
        "d_vals_fake = [item[1] for item in itertools.chain(*all_d_vals)]\n",
        "plt.plot(d_vals_real, alpha=0.75, label=r'Real: $D(\\mathbf{x})$')\n",
        "plt.plot(d_vals_fake, alpha=0.75, label=r'Fake: $D(G(\\mathbf{z}))$')\n",
        "plt.legend(fontsize=20)\n",
        "ax.set_xlabel('Iteration', size=15)\n",
        "ax.set_ylabel('Discriminator output', size=15)\n",
        "\n",
        "ax2 = ax.twiny()\n",
        "ax2.set_xticks(newpos)\n",
        "ax2.set_xticklabels(epoch_ticks)\n",
        "ax2.xaxis.set_ticks_position('bottom')\n",
        "ax2.xaxis.set_label_position('bottom')\n",
        "ax2.spines['bottom'].set_position(('outward', 60))\n",
        "ax2.set_xlabel('Epoch', size=15)\n",
        "ax2.set_xlim(ax.get_xlim())\n",
        "ax.tick_params(axis='both', which='major', labelsize=15)\n",
        "ax2.tick_params(axis='both', which='major', labelsize=15)\n",
        "\n",
        "\n",
        "#plt.savefig('images/ch17-gan-learning-curve.pdf')\n",
        "plt.show()"
      ],
      "execution_count": 12,
      "outputs": [
        {
          "output_type": "display_data",
          "data": {
            "image/png": "[encoded data removed]",
            "text/plain": [
              "<Figure size 1152x432 with 4 Axes>"
            ]
          },
          "metadata": {
            "tags": []
          }
        }
      ]
    },
    {
      "cell_type": "code",
      "metadata": {
        "colab_type": "code",
        "id": "iENdPX_gPoJ7",
        "outputId": "2780e5c8-52bc-44bc-d475-71a53c687de2",
        "colab": {
          "base_uri": "https://localhost:8080/",
          "height": 783
        }
      },
      "source": [
        "selected_epochs = [1, 2, 4, 10, 50, 100]\n",
        "fig = plt.figure(figsize=(10, 14))\n",
        "for i,e in enumerate(selected_epochs):\n",
        "    for j in range(5):\n",
        "        ax = fig.add_subplot(6, 5, i*5+j+1)\n",
        "        ax.set_xticks([])\n",
        "        ax.set_yticks([])\n",
        "        if j == 0:\n",
        "            ax.text(\n",
        "                -0.06, 0.5, 'Epoch {}'.format(e),\n",
        "                rotation=90, size=18, color='red',\n",
        "                horizontalalignment='right',\n",
        "                verticalalignment='center', \n",
        "                transform=ax.transAxes)\n",
        "        \n",
        "        image = epoch_samples[e-1][j]\n",
        "        ax.imshow(image, cmap='gray_r')\n",
        "    \n",
        "#plt.savefig('images/ch17-vanila-gan-samples.pdf')\n",
        "plt.show()"
      ],
      "execution_count": 13,
      "outputs": [
        {
          "output_type": "display_data",
          "data": {
            "image/png": "[encoded data removed]",
            "text/plain": [
              "<Figure size 720x1008 with 30 Axes>"
            ]
          },
          "metadata": {
            "tags": []
          }
        }
      ]
    }
  ]
}
