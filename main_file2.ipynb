{
  "nbformat": 4,
  "nbformat_minor": 0,
  "metadata": {
    "accelerator": "GPU",
    "colab": {
      "name": "ch17-DCGAN.ipynb",
      "provenance": [],
      "collapsed_sections": []
    },
    "kernelspec": {
      "display_name": "Python 3",
      "language": "python",
      "name": "python3"
    },
    "language_info": {
      "codemirror_mode": {
        "name": "ipython",
        "version": 3
      },
      "file_extension": ".py",
      "mimetype": "text/x-python",
      "name": "python",
      "nbconvert_exporter": "python",
      "pygments_lexer": "ipython3",
      "version": "3.7.1"
    },
    "widgets": {
      "application/vnd.jupyter.widget-state+json": {
        "03b2e40d00c64fc99aaf6b5658abd593": {
          "model_module": "@jupyter-widgets/controls",
          "model_name": "HBoxModel",
          "state": {
            "_view_name": "HBoxView",
            "_dom_classes": [],
            "_model_name": "HBoxModel",
            "_view_module": "@jupyter-widgets/controls",
            "_model_module_version": "1.5.0",
            "_view_count": null,
            "_view_module_version": "1.5.0",
            "box_style": "",
            "layout": "IPY_MODEL_d620231553a649c19c2760b84a2e8922",
            "_model_module": "@jupyter-widgets/controls",
            "children": [
              "IPY_MODEL_a988550af91e46dd845c5eef3750e363",
              "IPY_MODEL_4691cc36ab6e43918a98763a31d50da7"
            ]
          }
        },
        "d620231553a649c19c2760b84a2e8922": {
          "model_module": "@jupyter-widgets/base",
          "model_name": "LayoutModel",
          "state": {
            "_view_name": "LayoutView",
            "grid_template_rows": null,
            "right": null,
            "justify_content": null,
            "_view_module": "@jupyter-widgets/base",
            "overflow": null,
            "_model_module_version": "1.2.0",
            "_view_count": null,
            "flex_flow": null,
            "width": null,
            "min_width": null,
            "border": null,
            "align_items": null,
            "bottom": null,
            "_model_module": "@jupyter-widgets/base",
            "top": null,
            "grid_column": null,
            "overflow_y": null,
            "overflow_x": null,
            "grid_auto_flow": null,
            "grid_area": null,
            "grid_template_columns": null,
            "flex": null,
            "_model_name": "LayoutModel",
            "justify_items": null,
            "grid_row": null,
            "max_height": null,
            "align_content": null,
            "visibility": null,
            "align_self": null,
            "height": null,
            "min_height": null,
            "padding": null,
            "grid_auto_rows": null,
            "grid_gap": null,
            "max_width": null,
            "order": null,
            "_view_module_version": "1.2.0",
            "grid_template_areas": null,
            "object_position": null,
            "object_fit": null,
            "grid_auto_columns": null,
            "margin": null,
            "display": null,
            "left": null
          }
        },
        "a988550af91e46dd845c5eef3750e363": {
          "model_module": "@jupyter-widgets/controls",
          "model_name": "IntProgressModel",
          "state": {
            "_view_name": "ProgressView",
            "style": "IPY_MODEL_916e06776de44124985d7de97027cbf0",
            "_dom_classes": [],
            "description": "Dl Completed...",
            "_model_name": "IntProgressModel",
            "bar_style": "success",
            "max": 4,
            "_view_module": "@jupyter-widgets/controls",
            "_model_module_version": "1.5.0",
            "value": 4,
            "_view_count": null,
            "_view_module_version": "1.5.0",
            "orientation": "horizontal",
            "min": 0,
            "description_tooltip": null,
            "_model_module": "@jupyter-widgets/controls",
            "layout": "IPY_MODEL_20aa7a38550f4a3d9d0e1014b7931b6f"
          }
        },
        "4691cc36ab6e43918a98763a31d50da7": {
          "model_module": "@jupyter-widgets/controls",
          "model_name": "HTMLModel",
          "state": {
            "_view_name": "HTMLView",
            "style": "IPY_MODEL_5ecb79c27c2a40e5b13c3c4d6e42b4d5",
            "_dom_classes": [],
            "description": "",
            "_model_name": "HTMLModel",
            "placeholder": "​",
            "_view_module": "@jupyter-widgets/controls",
            "_model_module_version": "1.5.0",
            "value": "100% 4/4 [00:00&lt;00:00,  4.59 file/s]",
            "_view_count": null,
            "_view_module_version": "1.5.0",
            "description_tooltip": null,
            "_model_module": "@jupyter-widgets/controls",
            "layout": "IPY_MODEL_4fa0d1d2227c4f8d81b1516e2dea6f84"
          }
        },
        "916e06776de44124985d7de97027cbf0": {
          "model_module": "@jupyter-widgets/controls",
          "model_name": "ProgressStyleModel",
          "state": {
            "_view_name": "StyleView",
            "_model_name": "ProgressStyleModel",
            "description_width": "initial",
            "_view_module": "@jupyter-widgets/base",
            "_model_module_version": "1.5.0",
            "_view_count": null,
            "_view_module_version": "1.2.0",
            "bar_color": null,
            "_model_module": "@jupyter-widgets/controls"
          }
        },
        "20aa7a38550f4a3d9d0e1014b7931b6f": {
          "model_module": "@jupyter-widgets/base",
          "model_name": "LayoutModel",
          "state": {
            "_view_name": "LayoutView",
            "grid_template_rows": null,
            "right": null,
            "justify_content": null,
            "_view_module": "@jupyter-widgets/base",
            "overflow": null,
            "_model_module_version": "1.2.0",
            "_view_count": null,
            "flex_flow": null,
            "width": null,
            "min_width": null,
            "border": null,
            "align_items": null,
            "bottom": null,
            "_model_module": "@jupyter-widgets/base",
            "top": null,
            "grid_column": null,
            "overflow_y": null,
            "overflow_x": null,
            "grid_auto_flow": null,
            "grid_area": null,
            "grid_template_columns": null,
            "flex": null,
            "_model_name": "LayoutModel",
            "justify_items": null,
            "grid_row": null,
            "max_height": null,
            "align_content": null,
            "visibility": null,
            "align_self": null,
            "height": null,
            "min_height": null,
            "padding": null,
            "grid_auto_rows": null,
            "grid_gap": null,
            "max_width": null,
            "order": null,
            "_view_module_version": "1.2.0",
            "grid_template_areas": null,
            "object_position": null,
            "object_fit": null,
            "grid_auto_columns": null,
            "margin": null,
            "display": null,
            "left": null
          }
        },
        "5ecb79c27c2a40e5b13c3c4d6e42b4d5": {
          "model_module": "@jupyter-widgets/controls",
          "model_name": "DescriptionStyleModel",
          "state": {
            "_view_name": "StyleView",
            "_model_name": "DescriptionStyleModel",
            "description_width": "",
            "_view_module": "@jupyter-widgets/base",
            "_model_module_version": "1.5.0",
            "_view_count": null,
            "_view_module_version": "1.2.0",
            "_model_module": "@jupyter-widgets/controls"
          }
        },
        "4fa0d1d2227c4f8d81b1516e2dea6f84": {
          "model_module": "@jupyter-widgets/base",
          "model_name": "LayoutModel",
          "state": {
            "_view_name": "LayoutView",
            "grid_template_rows": null,
            "right": null,
            "justify_content": null,
            "_view_module": "@jupyter-widgets/base",
            "overflow": null,
            "_model_module_version": "1.2.0",
            "_view_count": null,
            "flex_flow": null,
            "width": null,
            "min_width": null,
            "border": null,
            "align_items": null,
            "bottom": null,
            "_model_module": "@jupyter-widgets/base",
            "top": null,
            "grid_column": null,
            "overflow_y": null,
            "overflow_x": null,
            "grid_auto_flow": null,
            "grid_area": null,
            "grid_template_columns": null,
            "flex": null,
            "_model_name": "LayoutModel",
            "justify_items": null,
            "grid_row": null,
            "max_height": null,
            "align_content": null,
            "visibility": null,
            "align_self": null,
            "height": null,
            "min_height": null,
            "padding": null,
            "grid_auto_rows": null,
            "grid_gap": null,
            "max_width": null,
            "order": null,
            "_view_module_version": "1.2.0",
            "grid_template_areas": null,
            "object_position": null,
            "object_fit": null,
            "grid_auto_columns": null,
            "margin": null,
            "display": null,
            "left": null
          }
        }
      }
    }
  },
  "cells": [
    {
      "cell_type": "markdown",
      "metadata": {
        "id": "ZvOHlDCkAjWU",
        "colab_type": "text"
      },
      "source": [
        "# Improving the quality of synthesized images using a convolutional and Wasserstein GAN"
      ]
    },
    {
      "cell_type": "markdown",
      "metadata": {
        "id": "TBKL8lA5AjWp",
        "colab_type": "text"
      },
      "source": [
        "## Implementing the generator and discriminator"
      ]
    },
    {
      "cell_type": "code",
      "metadata": {
        "colab_type": "code",
        "id": "zMoH78rnCBkE",
        "colab": {}
      },
      "source": [
        "#! pip install -q tensorflow-gpu==2.0.0"
      ],
      "execution_count": 0,
      "outputs": []
    },
    {
      "cell_type": "code",
      "metadata": {
        "colab_type": "code",
        "id": "8Tg5neR3CAqU",
        "colab": {}
      },
      "source": [
        "#from google.colab import drive\n",
        "#drive.mount('/content/drive/')"
      ],
      "execution_count": 0,
      "outputs": []
    },
    {
      "cell_type": "code",
      "metadata": {
        "colab_type": "code",
        "id": "O9XN3qSZ6Kbr",
        "outputId": "83fc8aa2-83ac-47ee-f9fe-3658076b4500",
        "colab": {
          "base_uri": "https://localhost:8080/",
          "height": 68
        }
      },
      "source": [
        "%tensorflow_version 2.x\n",
        "import tensorflow as tf\n",
        "\n",
        "\n",
        "print(tf.__version__)\n",
        "\n",
        "print(\"GPU Available:\", tf.config.list_physical_devices('GPU'))\n",
        "\n",
        "if tf.config.list_physical_devices('GPU'):\n",
        "    device_name = tf.test.gpu_device_name()\n",
        "\n",
        "else:\n",
        "    device_name = 'CPU:0'\n",
        "    \n",
        "print(device_name)"
      ],
      "execution_count": 4,
      "outputs": [
        {
          "output_type": "stream",
          "text": [
            "2.1.0\n",
            "GPU Available: [PhysicalDevice(name='/physical_device:GPU:0', device_type='GPU')]\n",
            "/device:GPU:0\n"
          ],
          "name": "stdout"
        }
      ]
    },
    {
      "cell_type": "code",
      "metadata": {
        "colab_type": "code",
        "id": "VXasfQIW3XeR",
        "colab": {}
      },
      "source": [
        "import tensorflow_datasets as tfds\n",
        "import numpy as np\n",
        "import matplotlib.pyplot as plt\n",
        "%matplotlib inline"
      ],
      "execution_count": 0,
      "outputs": []
    },
    {
      "cell_type": "code",
      "metadata": {
        "colab_type": "code",
        "id": "O9QIFmPZ3jjg",
        "colab": {}
      },
      "source": [
        "def make_dcgan_generator(\n",
        "        z_size=20, \n",
        "        output_size=(28, 28, 1),\n",
        "        n_filters=128, \n",
        "        n_blocks=2):\n",
        "    size_factor = 2**n_blocks\n",
        "    hidden_size = (\n",
        "        output_size[0]//size_factor, \n",
        "        output_size[1]//size_factor\n",
        "    )\n",
        "    \n",
        "    model = tf.keras.Sequential([\n",
        "        tf.keras.layers.Input(shape=(z_size,)),\n",
        "        \n",
        "        tf.keras.layers.Dense(\n",
        "            units=n_filters*np.prod(hidden_size), \n",
        "            use_bias=False),\n",
        "        tf.keras.layers.BatchNormalization(),\n",
        "        tf.keras.layers.LeakyReLU(),\n",
        "        tf.keras.layers.Reshape(\n",
        "            (hidden_size[0], hidden_size[1], n_filters)),\n",
        "    \n",
        "        tf.keras.layers.Conv2DTranspose(\n",
        "            filters=n_filters, kernel_size=(5, 5), strides=(1, 1),\n",
        "            padding='same', use_bias=False),\n",
        "        tf.keras.layers.BatchNormalization(),\n",
        "        tf.keras.layers.LeakyReLU()\n",
        "    ])\n",
        "        \n",
        "    nf = n_filters\n",
        "    for i in range(n_blocks):\n",
        "        nf = nf // 2\n",
        "        model.add(\n",
        "            tf.keras.layers.Conv2DTranspose(\n",
        "                filters=nf, kernel_size=(5, 5), strides=(2, 2),\n",
        "                padding='same', use_bias=False))\n",
        "        model.add(tf.keras.layers.BatchNormalization())\n",
        "        model.add(tf.keras.layers.LeakyReLU())\n",
        "                \n",
        "    model.add(\n",
        "        tf.keras.layers.Conv2DTranspose(\n",
        "            filters=output_size[2], kernel_size=(5, 5), \n",
        "            strides=(1, 1), padding='same', use_bias=False, \n",
        "            activation='tanh'))\n",
        "        \n",
        "    return model\n",
        "\n",
        "def make_dcgan_discriminator(\n",
        "        input_size=(28, 28, 1),\n",
        "        n_filters=64, \n",
        "        n_blocks=2):\n",
        "    model = tf.keras.Sequential([\n",
        "        tf.keras.layers.Input(shape=input_size),\n",
        "        tf.keras.layers.Conv2D(\n",
        "            filters=n_filters, kernel_size=5, \n",
        "            strides=(1, 1), padding='same'),\n",
        "        tf.keras.layers.BatchNormalization(),\n",
        "        tf.keras.layers.LeakyReLU()\n",
        "    ])\n",
        "    \n",
        "    nf = n_filters\n",
        "    for i in range(n_blocks):\n",
        "        nf = nf*2\n",
        "        model.add(\n",
        "            tf.keras.layers.Conv2D(\n",
        "                filters=nf, kernel_size=(5, 5), \n",
        "                strides=(2, 2),padding='same'))\n",
        "        model.add(tf.keras.layers.BatchNormalization())\n",
        "        model.add(tf.keras.layers.LeakyReLU())\n",
        "        model.add(tf.keras.layers.Dropout(0.3))\n",
        "        \n",
        "    model.add(tf.keras.layers.Conv2D(\n",
        "            filters=1, kernel_size=(7, 7), padding='valid'))\n",
        "    \n",
        "    model.add(tf.keras.layers.Reshape((1,)))\n",
        "    \n",
        "    return model"
      ],
      "execution_count": 0,
      "outputs": []
    },
    {
      "cell_type": "code",
      "metadata": {
        "colab_type": "code",
        "id": "DX4INL735ARw",
        "outputId": "df925bf3-bd52-480b-a9e4-71fae57dae11",
        "colab": {
          "base_uri": "https://localhost:8080/",
          "height": 1000
        }
      },
      "source": [
        "gen_model = make_dcgan_generator()\n",
        "gen_model.summary()\n",
        "\n",
        "disc_model = make_dcgan_discriminator()\n",
        "disc_model.summary()"
      ],
      "execution_count": 7,
      "outputs": [
        {
          "output_type": "stream",
          "text": [
            "Model: \"sequential\"\n",
            "_________________________________________________________________\n",
            "Layer (type)                 Output Shape              Param #   \n",
            "=================================================================\n",
            "dense (Dense)                (None, 6272)              125440    \n",
            "_________________________________________________________________\n",
            "batch_normalization (BatchNo (None, 6272)              25088     \n",
            "_________________________________________________________________\n",
            "leaky_re_lu (LeakyReLU)      (None, 6272)              0         \n",
            "_________________________________________________________________\n",
            "reshape (Reshape)            (None, 7, 7, 128)         0         \n",
            "_________________________________________________________________\n",
            "conv2d_transpose (Conv2DTran (None, 7, 7, 128)         409600    \n",
            "_________________________________________________________________\n",
            "batch_normalization_1 (Batch (None, 7, 7, 128)         512       \n",
            "_________________________________________________________________\n",
            "leaky_re_lu_1 (LeakyReLU)    (None, 7, 7, 128)         0         \n",
            "_________________________________________________________________\n",
            "conv2d_transpose_1 (Conv2DTr (None, 14, 14, 64)        204800    \n",
            "_________________________________________________________________\n",
            "batch_normalization_2 (Batch (None, 14, 14, 64)        256       \n",
            "_________________________________________________________________\n",
            "leaky_re_lu_2 (LeakyReLU)    (None, 14, 14, 64)        0         \n",
            "_________________________________________________________________\n",
            "conv2d_transpose_2 (Conv2DTr (None, 28, 28, 32)        51200     \n",
            "_________________________________________________________________\n",
            "batch_normalization_3 (Batch (None, 28, 28, 32)        128       \n",
            "_________________________________________________________________\n",
            "leaky_re_lu_3 (LeakyReLU)    (None, 28, 28, 32)        0         \n",
            "_________________________________________________________________\n",
            "conv2d_transpose_3 (Conv2DTr (None, 28, 28, 1)         800       \n",
            "=================================================================\n",
            "Total params: 817,824\n",
            "Trainable params: 804,832\n",
            "Non-trainable params: 12,992\n",
            "_________________________________________________________________\n",
            "Model: \"sequential_1\"\n",
            "_________________________________________________________________\n",
            "Layer (type)                 Output Shape              Param #   \n",
            "=================================================================\n",
            "conv2d (Conv2D)              (None, 28, 28, 64)        1664      \n",
            "_________________________________________________________________\n",
            "batch_normalization_4 (Batch (None, 28, 28, 64)        256       \n",
            "_________________________________________________________________\n",
            "leaky_re_lu_4 (LeakyReLU)    (None, 28, 28, 64)        0         \n",
            "_________________________________________________________________\n",
            "conv2d_1 (Conv2D)            (None, 14, 14, 128)       204928    \n",
            "_________________________________________________________________\n",
            "batch_normalization_5 (Batch (None, 14, 14, 128)       512       \n",
            "_________________________________________________________________\n",
            "leaky_re_lu_5 (LeakyReLU)    (None, 14, 14, 128)       0         \n",
            "_________________________________________________________________\n",
            "dropout (Dropout)            (None, 14, 14, 128)       0         \n",
            "_________________________________________________________________\n",
            "conv2d_2 (Conv2D)            (None, 7, 7, 256)         819456    \n",
            "_________________________________________________________________\n",
            "batch_normalization_6 (Batch (None, 7, 7, 256)         1024      \n",
            "_________________________________________________________________\n",
            "leaky_re_lu_6 (LeakyReLU)    (None, 7, 7, 256)         0         \n",
            "_________________________________________________________________\n",
            "dropout_1 (Dropout)          (None, 7, 7, 256)         0         \n",
            "_________________________________________________________________\n",
            "conv2d_3 (Conv2D)            (None, 1, 1, 1)           12545     \n",
            "_________________________________________________________________\n",
            "reshape_1 (Reshape)          (None, 1)                 0         \n",
            "=================================================================\n",
            "Total params: 1,040,385\n",
            "Trainable params: 1,039,489\n",
            "Non-trainable params: 896\n",
            "_________________________________________________________________\n"
          ],
          "name": "stdout"
        }
      ]
    },
    {
      "cell_type": "markdown",
      "metadata": {
        "id": "-w7xCDOsAjXg",
        "colab_type": "text"
      },
      "source": [
        "## Dissimilarity measures between two distributions "
      ]
    },
    {
      "cell_type": "markdown",
      "metadata": {
        "id": "pa2_i0s0AjXz",
        "colab_type": "text"
      },
      "source": [
        "## Using EM distance in practice for GANs"
      ]
    },
    {
      "cell_type": "markdown",
      "metadata": {
        "id": "Q_aluh_7AjX0",
        "colab_type": "text"
      },
      "source": [
        "## Gradient penalty "
      ]
    },
    {
      "cell_type": "markdown",
      "metadata": {
        "id": "-x6PAa3NAjX2",
        "colab_type": "text"
      },
      "source": [
        "## Implementing WGAN-GP to train the DCGAN model"
      ]
    },
    {
      "cell_type": "code",
      "metadata": {
        "colab_type": "code",
        "id": "-iAGk1Ta6xmQ",
        "outputId": "207d0c20-49f0-4a0b-93de-9ba6bcc95477",
        "colab": {
          "base_uri": "https://localhost:8080/",
          "height": 202,
          "referenced_widgets": [
            "03b2e40d00c64fc99aaf6b5658abd593",
            "d620231553a649c19c2760b84a2e8922",
            "a988550af91e46dd845c5eef3750e363",
            "4691cc36ab6e43918a98763a31d50da7",
            "916e06776de44124985d7de97027cbf0",
            "20aa7a38550f4a3d9d0e1014b7931b6f",
            "5ecb79c27c2a40e5b13c3c4d6e42b4d5",
            "4fa0d1d2227c4f8d81b1516e2dea6f84"
          ]
        }
      },
      "source": [
        "mnist_bldr = tfds.builder('mnist')\n",
        "mnist_bldr.download_and_prepare()\n",
        "mnist = mnist_bldr.as_dataset(shuffle_files=False)\n",
        "\n",
        "def preprocess(ex, mode='uniform'):\n",
        "    image = ex['image']\n",
        "    image = tf.image.convert_image_dtype(image, tf.float32)\n",
        "\n",
        "    image = image*2 - 1.0\n",
        "    if mode == 'uniform':\n",
        "        input_z = tf.random.uniform(\n",
        "            shape=(z_size,), minval=-1.0, maxval=1.0)\n",
        "    elif mode == 'normal':\n",
        "        input_z = tf.random.normal(shape=(z_size,))\n",
        "    return input_z, image"
      ],
      "execution_count": 8,
      "outputs": [
        {
          "output_type": "stream",
          "text": [
            "\u001b[1mDownloading and preparing dataset mnist/3.0.0 (download: 11.06 MiB, generated: Unknown size, total: 11.06 MiB) to /root/tensorflow_datasets/mnist/3.0.0...\u001b[0m\n"
          ],
          "name": "stdout"
        },
        {
          "output_type": "stream",
          "text": [
            "WARNING:absl:Dataset mnist is hosted on GCS. It will automatically be downloaded to your\n",
            "local data directory. If you'd instead prefer to read directly from our public\n",
            "GCS bucket (recommended if you're running on GCP), you can instead set\n",
            "data_dir=gs://tfds-data/datasets.\n",
            "\n"
          ],
          "name": "stderr"
        },
        {
          "output_type": "display_data",
          "data": {
            "application/vnd.jupyter.widget-view+json": {
              "model_id": "03b2e40d00c64fc99aaf6b5658abd593",
              "version_minor": 0,
              "version_major": 2
            },
            "text/plain": [
              "HBox(children=(IntProgress(value=0, description='Dl Completed...', max=4, style=ProgressStyle(description_widt…"
            ]
          },
          "metadata": {
            "tags": []
          }
        },
        {
          "output_type": "stream",
          "text": [
            "\n",
            "\n",
            "\u001b[1mDataset mnist downloaded and prepared to /root/tensorflow_datasets/mnist/3.0.0. Subsequent calls will reuse this data.\u001b[0m\n"
          ],
          "name": "stdout"
        }
      ]
    },
    {
      "cell_type": "code",
      "metadata": {
        "id": "XLDyI1laAjYc",
        "colab_type": "code",
        "colab": {
          "base_uri": "https://localhost:8080/",
          "height": 1000
        },
        "outputId": "ce11fb9c-1346-4ce4-c5e8-3ee6fa3a83af"
      },
      "source": [
        "num_epochs = 100\n",
        "batch_size = 128\n",
        "image_size = (28, 28)\n",
        "z_size = 20\n",
        "mode_z = 'uniform'\n",
        "lambda_gp = 10.0\n",
        "\n",
        "tf.random.set_seed(1)\n",
        "np.random.seed(1)\n",
        "\n",
        "## Set-up the dataset\n",
        "mnist_trainset = mnist['train']\n",
        "mnist_trainset = mnist_trainset.map(preprocess)\n",
        "\n",
        "mnist_trainset = mnist_trainset.shuffle(10000)\n",
        "mnist_trainset = mnist_trainset.batch(\n",
        "    batch_size, drop_remainder=True)\n",
        "\n",
        "## Set-up the model\n",
        "with tf.device(device_name):\n",
        "    gen_model = make_dcgan_generator()\n",
        "    gen_model.build(input_shape=(None, z_size))\n",
        "    gen_model.summary()\n",
        "\n",
        "    disc_model = make_dcgan_discriminator()\n",
        "    disc_model.build(input_shape=(None, np.prod(image_size)))\n",
        "    disc_model.summary()"
      ],
      "execution_count": 9,
      "outputs": [
        {
          "output_type": "stream",
          "text": [
            "Model: \"sequential_2\"\n",
            "_________________________________________________________________\n",
            "Layer (type)                 Output Shape              Param #   \n",
            "=================================================================\n",
            "dense_1 (Dense)              (None, 6272)              125440    \n",
            "_________________________________________________________________\n",
            "batch_normalization_7 (Batch (None, 6272)              25088     \n",
            "_________________________________________________________________\n",
            "leaky_re_lu_7 (LeakyReLU)    (None, 6272)              0         \n",
            "_________________________________________________________________\n",
            "reshape_2 (Reshape)          (None, 7, 7, 128)         0         \n",
            "_________________________________________________________________\n",
            "conv2d_transpose_4 (Conv2DTr (None, 7, 7, 128)         409600    \n",
            "_________________________________________________________________\n",
            "batch_normalization_8 (Batch (None, 7, 7, 128)         512       \n",
            "_________________________________________________________________\n",
            "leaky_re_lu_8 (LeakyReLU)    (None, 7, 7, 128)         0         \n",
            "_________________________________________________________________\n",
            "conv2d_transpose_5 (Conv2DTr (None, 14, 14, 64)        204800    \n",
            "_________________________________________________________________\n",
            "batch_normalization_9 (Batch (None, 14, 14, 64)        256       \n",
            "_________________________________________________________________\n",
            "leaky_re_lu_9 (LeakyReLU)    (None, 14, 14, 64)        0         \n",
            "_________________________________________________________________\n",
            "conv2d_transpose_6 (Conv2DTr (None, 28, 28, 32)        51200     \n",
            "_________________________________________________________________\n",
            "batch_normalization_10 (Batc (None, 28, 28, 32)        128       \n",
            "_________________________________________________________________\n",
            "leaky_re_lu_10 (LeakyReLU)   (None, 28, 28, 32)        0         \n",
            "_________________________________________________________________\n",
            "conv2d_transpose_7 (Conv2DTr (None, 28, 28, 1)         800       \n",
            "=================================================================\n",
            "Total params: 817,824\n",
            "Trainable params: 804,832\n",
            "Non-trainable params: 12,992\n",
            "_________________________________________________________________\n",
            "Model: \"sequential_3\"\n",
            "_________________________________________________________________\n",
            "Layer (type)                 Output Shape              Param #   \n",
            "=================================================================\n",
            "conv2d_4 (Conv2D)            (None, 28, 28, 64)        1664      \n",
            "_________________________________________________________________\n",
            "batch_normalization_11 (Batc (None, 28, 28, 64)        256       \n",
            "_________________________________________________________________\n",
            "leaky_re_lu_11 (LeakyReLU)   (None, 28, 28, 64)        0         \n",
            "_________________________________________________________________\n",
            "conv2d_5 (Conv2D)            (None, 14, 14, 128)       204928    \n",
            "_________________________________________________________________\n",
            "batch_normalization_12 (Batc (None, 14, 14, 128)       512       \n",
            "_________________________________________________________________\n",
            "leaky_re_lu_12 (LeakyReLU)   (None, 14, 14, 128)       0         \n",
            "_________________________________________________________________\n",
            "dropout_2 (Dropout)          (None, 14, 14, 128)       0         \n",
            "_________________________________________________________________\n",
            "conv2d_6 (Conv2D)            (None, 7, 7, 256)         819456    \n",
            "_________________________________________________________________\n",
            "batch_normalization_13 (Batc (None, 7, 7, 256)         1024      \n",
            "_________________________________________________________________\n",
            "leaky_re_lu_13 (LeakyReLU)   (None, 7, 7, 256)         0         \n",
            "_________________________________________________________________\n",
            "dropout_3 (Dropout)          (None, 7, 7, 256)         0         \n",
            "_________________________________________________________________\n",
            "conv2d_7 (Conv2D)            (None, 1, 1, 1)           12545     \n",
            "_________________________________________________________________\n",
            "reshape_3 (Reshape)          (None, 1)                 0         \n",
            "=================================================================\n",
            "Total params: 1,040,385\n",
            "Trainable params: 1,039,489\n",
            "Non-trainable params: 896\n",
            "_________________________________________________________________\n"
          ],
          "name": "stdout"
        }
      ]
    },
    {
      "cell_type": "code",
      "metadata": {
        "id": "rynd2XmzAjYl",
        "colab_type": "code",
        "colab": {
          "base_uri": "https://localhost:8080/",
          "height": 1000
        },
        "outputId": "16eac67d-3d8c-4e85-820d-09f33321e2e6"
      },
      "source": [
        "import time\n",
        "\n",
        "\n",
        "## optimizers:\n",
        "g_optimizer = tf.keras.optimizers.Adam(0.0002)\n",
        "d_optimizer = tf.keras.optimizers.Adam(0.0002)\n",
        "\n",
        "if mode_z == 'uniform':\n",
        "    fixed_z = tf.random.uniform(\n",
        "        shape=(batch_size, z_size),\n",
        "        minval=-1, maxval=1)\n",
        "elif mode_z == 'normal':\n",
        "    fixed_z = tf.random.normal(\n",
        "        shape=(batch_size, z_size))\n",
        "\n",
        "def create_samples(g_model, input_z):\n",
        "    g_output = g_model(input_z, training=False)\n",
        "    images = tf.reshape(g_output, (batch_size, *image_size))    \n",
        "    return (images+1)/2.0\n",
        "\n",
        "all_losses = []\n",
        "epoch_samples = []\n",
        "\n",
        "start_time = time.time()\n",
        "\n",
        "for epoch in range(1, num_epochs+1):\n",
        "    epoch_losses = []\n",
        "    for i,(input_z,input_real) in enumerate(mnist_trainset):\n",
        "        \n",
        "        ## Compute discriminator's loss and gradients:\n",
        "        with tf.GradientTape() as d_tape, tf.GradientTape() as g_tape:\n",
        "            g_output = gen_model(input_z, training=True)\n",
        "            \n",
        "            d_critics_real = disc_model(input_real, training=True)\n",
        "            d_critics_fake = disc_model(g_output, training=True)\n",
        "\n",
        "            ## Compute generator's loss:\n",
        "            g_loss = -tf.math.reduce_mean(d_critics_fake)\n",
        "\n",
        "            ## Compute discriminator's losses\n",
        "            d_loss_real = -tf.math.reduce_mean(d_critics_real)\n",
        "            d_loss_fake =  tf.math.reduce_mean(d_critics_fake)\n",
        "            d_loss = d_loss_real + d_loss_fake\n",
        "\n",
        "            ## Gradient penalty:\n",
        "            with tf.GradientTape() as gp_tape:\n",
        "                alpha = tf.random.uniform(\n",
        "                    shape=[d_critics_real.shape[0], 1, 1, 1], \n",
        "                    minval=0.0, maxval=1.0)\n",
        "                interpolated = (\n",
        "                    alpha*input_real + (1-alpha)*g_output)\n",
        "                gp_tape.watch(interpolated)\n",
        "                d_critics_intp = disc_model(interpolated)\n",
        "            \n",
        "            grads_intp = gp_tape.gradient(\n",
        "                d_critics_intp, [interpolated,])[0]\n",
        "            grads_intp_l2 = tf.sqrt(\n",
        "                tf.reduce_sum(tf.square(grads_intp), axis=[1, 2, 3]))\n",
        "            grad_penalty = tf.reduce_mean(tf.square(grads_intp_l2 - 1.0))\n",
        "        \n",
        "            d_loss = d_loss + lambda_gp*grad_penalty\n",
        "        \n",
        "        ## Optimization: Compute the gradients apply them\n",
        "        d_grads = d_tape.gradient(d_loss, disc_model.trainable_variables)\n",
        "        d_optimizer.apply_gradients(\n",
        "            grads_and_vars=zip(d_grads, disc_model.trainable_variables))\n",
        "        \n",
        "        g_grads = g_tape.gradient(g_loss, gen_model.trainable_variables)\n",
        "        g_optimizer.apply_gradients(\n",
        "            grads_and_vars=zip(g_grads, gen_model.trainable_variables))\n",
        "\n",
        "        epoch_losses.append(\n",
        "            (g_loss.numpy(), d_loss.numpy(), \n",
        "             d_loss_real.numpy(), d_loss_fake.numpy()))\n",
        "                    \n",
        "    all_losses.append(epoch_losses)\n",
        "    \n",
        "    print('Epoch {:-3d} | ET {:.2f} min | Avg Losses >>'\n",
        "          ' G/D {:6.2f}/{:6.2f} [D-Real: {:6.2f} D-Fake: {:6.2f}]'\n",
        "          .format(epoch, (time.time() - start_time)/60, \n",
        "                  *list(np.mean(all_losses[-1], axis=0)))\n",
        "    )\n",
        "    \n",
        "    epoch_samples.append(\n",
        "        create_samples(gen_model, fixed_z).numpy()\n",
        "    )"
      ],
      "execution_count": 10,
      "outputs": [
        {
          "output_type": "stream",
          "text": [
            "Epoch   1 | ET 2.07 min | Avg Losses >> G/D 183.87/-300.61 [D-Real: -203.45 D-Fake: -183.87]\n",
            "Epoch   2 | ET 4.06 min | Avg Losses >> G/D 182.04/-145.36 [D-Real: -144.06 D-Fake: -182.04]\n",
            "Epoch   3 | ET 6.05 min | Avg Losses >> G/D  83.38/ -1.40 [D-Real: -17.66 D-Fake: -83.38]\n",
            "Epoch   4 | ET 8.04 min | Avg Losses >> G/D  54.86/ -4.51 [D-Real:  -5.28 D-Fake: -54.86]\n",
            "Epoch   5 | ET 10.03 min | Avg Losses >> G/D  49.97/-13.37 [D-Real:   5.63 D-Fake: -49.97]\n",
            "Epoch   6 | ET 12.02 min | Avg Losses >> G/D  59.46/-22.44 [D-Real:  19.63 D-Fake: -59.46]\n",
            "Epoch   7 | ET 14.00 min | Avg Losses >> G/D  40.12/-23.45 [D-Real:   0.33 D-Fake: -40.12]\n",
            "Epoch   8 | ET 15.98 min | Avg Losses >> G/D  47.05/-23.17 [D-Real:  13.83 D-Fake: -47.05]\n",
            "Epoch   9 | ET 17.96 min | Avg Losses >> G/D  51.39/-31.24 [D-Real:   9.74 D-Fake: -51.39]\n",
            "Epoch  10 | ET 19.97 min | Avg Losses >> G/D  55.37/-31.82 [D-Real:   8.32 D-Fake: -55.37]\n",
            "Epoch  11 | ET 21.99 min | Avg Losses >> G/D  55.76/-40.27 [D-Real:   7.44 D-Fake: -55.76]\n",
            "Epoch  12 | ET 23.97 min | Avg Losses >> G/D  60.24/-39.66 [D-Real:   5.61 D-Fake: -60.24]\n",
            "Epoch  13 | ET 25.93 min | Avg Losses >> G/D  60.71/-38.67 [D-Real:   9.66 D-Fake: -60.71]\n",
            "Epoch  14 | ET 27.90 min | Avg Losses >> G/D  59.25/-31.94 [D-Real:   9.72 D-Fake: -59.25]\n",
            "Epoch  15 | ET 29.87 min | Avg Losses >> G/D  81.24/-37.15 [D-Real:  35.39 D-Fake: -81.24]\n",
            "Epoch  16 | ET 31.84 min | Avg Losses >> G/D  82.49/-48.44 [D-Real:  23.54 D-Fake: -82.49]\n",
            "Epoch  17 | ET 33.81 min | Avg Losses >> G/D  86.01/-37.88 [D-Real:  32.87 D-Fake: -86.01]\n",
            "Epoch  18 | ET 35.77 min | Avg Losses >> G/D 129.82/-36.04 [D-Real:  88.40 D-Fake: -129.82]\n",
            "Epoch  19 | ET 37.73 min | Avg Losses >> G/D 155.23/-39.72 [D-Real: 104.02 D-Fake: -155.23]\n",
            "Epoch  20 | ET 39.68 min | Avg Losses >> G/D 176.95/-39.26 [D-Real: 127.27 D-Fake: -176.95]\n",
            "Epoch  21 | ET 41.63 min | Avg Losses >> G/D 142.01/-12.71 [D-Real:  87.46 D-Fake: -142.01]\n",
            "Epoch  22 | ET 43.57 min | Avg Losses >> G/D 140.33/-15.30 [D-Real: 112.36 D-Fake: -140.33]\n",
            "Epoch  23 | ET 45.52 min | Avg Losses >> G/D  96.32/-28.19 [D-Real:  65.06 D-Fake: -96.32]\n",
            "Epoch  24 | ET 47.48 min | Avg Losses >> G/D 138.07/-46.12 [D-Real:  85.70 D-Fake: -138.07]\n",
            "Epoch  25 | ET 49.45 min | Avg Losses >> G/D 122.84/-52.66 [D-Real:  60.02 D-Fake: -122.84]\n",
            "Epoch  26 | ET 51.43 min | Avg Losses >> G/D 113.49/-21.74 [D-Real:  69.14 D-Fake: -113.49]\n",
            "Epoch  27 | ET 53.40 min | Avg Losses >> G/D 138.19/-36.30 [D-Real:  90.02 D-Fake: -138.19]\n",
            "Epoch  28 | ET 55.35 min | Avg Losses >> G/D 220.84/-39.04 [D-Real: 175.63 D-Fake: -220.84]\n",
            "Epoch  29 | ET 57.30 min | Avg Losses >> G/D 164.34/-54.60 [D-Real:  90.99 D-Fake: -164.34]\n",
            "Epoch  30 | ET 59.25 min | Avg Losses >> G/D 173.29/-36.09 [D-Real: 128.20 D-Fake: -173.29]\n",
            "Epoch  31 | ET 61.20 min | Avg Losses >> G/D 229.34/-34.12 [D-Real: 181.70 D-Fake: -229.34]\n",
            "Epoch  32 | ET 63.16 min | Avg Losses >> G/D 219.50/-48.45 [D-Real: 157.32 D-Fake: -219.50]\n",
            "Epoch  33 | ET 65.10 min | Avg Losses >> G/D 251.58/-16.87 [D-Real: 198.68 D-Fake: -251.58]\n",
            "Epoch  34 | ET 67.05 min | Avg Losses >> G/D 241.51/-37.39 [D-Real: 191.11 D-Fake: -241.51]\n",
            "Epoch  35 | ET 69.01 min | Avg Losses >> G/D 208.95/-38.29 [D-Real: 162.43 D-Fake: -208.95]\n",
            "Epoch  36 | ET 70.96 min | Avg Losses >> G/D 189.14/-54.24 [D-Real: 123.46 D-Fake: -189.14]\n",
            "Epoch  37 | ET 72.92 min | Avg Losses >> G/D 336.43/-38.71 [D-Real: 292.67 D-Fake: -336.43]\n",
            "Epoch  38 | ET 74.87 min | Avg Losses >> G/D 268.35/-48.94 [D-Real: 207.06 D-Fake: -268.35]\n",
            "Epoch  39 | ET 76.83 min | Avg Losses >> G/D 312.90/-40.86 [D-Real: 260.89 D-Fake: -312.90]\n",
            "Epoch  40 | ET 78.80 min | Avg Losses >> G/D 275.46/-53.15 [D-Real: 211.43 D-Fake: -275.46]\n",
            "Epoch  41 | ET 80.78 min | Avg Losses >> G/D 404.11/-33.67 [D-Real: 358.34 D-Fake: -404.11]\n",
            "Epoch  42 | ET 82.75 min | Avg Losses >> G/D 365.21/-52.66 [D-Real: 303.78 D-Fake: -365.21]\n",
            "Epoch  43 | ET 84.70 min | Avg Losses >> G/D 317.57/ -6.99 [D-Real: 246.91 D-Fake: -317.57]\n",
            "Epoch  44 | ET 86.65 min | Avg Losses >> G/D 468.30/-34.11 [D-Real: 425.45 D-Fake: -468.30]\n",
            "Epoch  45 | ET 88.60 min | Avg Losses >> G/D 334.76/-47.97 [D-Real: 282.00 D-Fake: -334.76]\n",
            "Epoch  46 | ET 90.55 min | Avg Losses >> G/D 303.95/-39.68 [D-Real: 260.64 D-Fake: -303.95]\n",
            "Epoch  47 | ET 92.50 min | Avg Losses >> G/D 432.89/-33.09 [D-Real: 393.16 D-Fake: -432.89]\n",
            "Epoch  48 | ET 94.46 min | Avg Losses >> G/D 335.35/-34.16 [D-Real: 298.89 D-Fake: -335.35]\n",
            "Epoch  49 | ET 96.41 min | Avg Losses >> G/D 351.16/-51.15 [D-Real: 268.64 D-Fake: -351.16]\n",
            "Epoch  50 | ET 98.36 min | Avg Losses >> G/D 392.97/-57.29 [D-Real: 327.21 D-Fake: -392.97]\n",
            "Epoch  51 | ET 100.32 min | Avg Losses >> G/D 411.86/-49.71 [D-Real: 356.57 D-Fake: -411.86]\n",
            "Epoch  52 | ET 102.27 min | Avg Losses >> G/D 457.65/ 36.14 [D-Real: 401.98 D-Fake: -457.65]\n",
            "Epoch  53 | ET 104.23 min | Avg Losses >> G/D 456.73/-60.38 [D-Real: 384.01 D-Fake: -456.73]\n",
            "Epoch  54 | ET 106.18 min | Avg Losses >> G/D 527.41/-39.51 [D-Real: 472.80 D-Fake: -527.41]\n",
            "Epoch  55 | ET 108.12 min | Avg Losses >> G/D 263.32/ 84.73 [D-Real: 246.64 D-Fake: -263.32]\n",
            "Epoch  56 | ET 110.07 min | Avg Losses >> G/D 192.74/-10.50 [D-Real: 180.91 D-Fake: -192.74]\n",
            "Epoch  57 | ET 112.05 min | Avg Losses >> G/D 201.40/-12.61 [D-Real: 187.82 D-Fake: -201.40]\n",
            "Epoch  58 | ET 114.04 min | Avg Losses >> G/D 260.48/-18.33 [D-Real: 240.69 D-Fake: -260.48]\n",
            "Epoch  59 | ET 116.01 min | Avg Losses >> G/D 314.12/-23.21 [D-Real: 277.45 D-Fake: -314.12]\n",
            "Epoch  60 | ET 117.96 min | Avg Losses >> G/D 443.19/-43.78 [D-Real: 393.95 D-Fake: -443.19]\n",
            "Epoch  61 | ET 119.92 min | Avg Losses >> G/D 360.94/-36.23 [D-Real: 322.35 D-Fake: -360.94]\n",
            "Epoch  62 | ET 121.88 min | Avg Losses >> G/D 495.42/-37.14 [D-Real: 454.26 D-Fake: -495.42]\n",
            "Epoch  63 | ET 123.84 min | Avg Losses >> G/D 339.70/-23.71 [D-Real: 313.37 D-Fake: -339.70]\n",
            "Epoch  64 | ET 125.79 min | Avg Losses >> G/D 352.23/-45.84 [D-Real: 301.10 D-Fake: -352.23]\n",
            "Epoch  65 | ET 127.74 min | Avg Losses >> G/D 488.54/-28.92 [D-Real: 456.76 D-Fake: -488.54]\n",
            "Epoch  66 | ET 129.69 min | Avg Losses >> G/D 495.94/-42.69 [D-Real: 446.65 D-Fake: -495.94]\n",
            "Epoch  67 | ET 131.64 min | Avg Losses >> G/D 551.77/-49.91 [D-Real: 495.05 D-Fake: -551.77]\n",
            "Epoch  68 | ET 133.59 min | Avg Losses >> G/D 468.88/-40.05 [D-Real: 421.44 D-Fake: -468.88]\n",
            "Epoch  69 | ET 135.54 min | Avg Losses >> G/D 604.98/-39.24 [D-Real: 547.25 D-Fake: -604.98]\n",
            "Epoch  70 | ET 137.50 min | Avg Losses >> G/D 548.23/-39.59 [D-Real: 503.00 D-Fake: -548.23]\n",
            "Epoch  71 | ET 139.47 min | Avg Losses >> G/D 547.94/-45.79 [D-Real: 497.27 D-Fake: -547.94]\n",
            "Epoch  72 | ET 141.46 min | Avg Losses >> G/D 504.77/-60.30 [D-Real: 432.22 D-Fake: -504.77]\n",
            "Epoch  73 | ET 143.42 min | Avg Losses >> G/D 622.30/-50.68 [D-Real: 555.95 D-Fake: -622.30]\n",
            "Epoch  74 | ET 145.36 min | Avg Losses >> G/D 842.19/-52.07 [D-Real: 782.37 D-Fake: -842.19]\n",
            "Epoch  75 | ET 147.31 min | Avg Losses >> G/D 593.27/-44.41 [D-Real: 540.34 D-Fake: -593.27]\n",
            "Epoch  76 | ET 149.25 min | Avg Losses >> G/D 743.42/-53.80 [D-Real: 666.93 D-Fake: -743.42]\n",
            "Epoch  77 | ET 151.20 min | Avg Losses >> G/D 701.70/-44.82 [D-Real: 647.00 D-Fake: -701.70]\n",
            "Epoch  78 | ET 153.14 min | Avg Losses >> G/D 787.20/-48.12 [D-Real: 733.04 D-Fake: -787.20]\n",
            "Epoch  79 | ET 155.09 min | Avg Losses >> G/D 886.57/-62.26 [D-Real: 808.20 D-Fake: -886.57]\n",
            "Epoch  80 | ET 157.04 min | Avg Losses >> G/D 912.96/-60.41 [D-Real: 845.81 D-Fake: -912.96]\n",
            "Epoch  81 | ET 158.99 min | Avg Losses >> G/D 822.81/-51.07 [D-Real: 753.58 D-Fake: -822.81]\n",
            "Epoch  82 | ET 160.93 min | Avg Losses >> G/D 532.53/-51.10 [D-Real: 478.08 D-Fake: -532.53]\n",
            "Epoch  83 | ET 162.88 min | Avg Losses >> G/D 531.35/-35.06 [D-Real: 485.92 D-Fake: -531.35]\n",
            "Epoch  84 | ET 164.82 min | Avg Losses >> G/D 847.32/-80.40 [D-Real: 753.75 D-Fake: -847.32]\n",
            "Epoch  85 | ET 166.77 min | Avg Losses >> G/D 814.18/-42.06 [D-Real: 754.09 D-Fake: -814.18]\n",
            "Epoch  86 | ET 168.72 min | Avg Losses >> G/D 914.83/-63.18 [D-Real: 844.02 D-Fake: -914.83]\n",
            "Epoch  87 | ET 170.68 min | Avg Losses >> G/D 612.65/-85.65 [D-Real: 521.35 D-Fake: -612.65]\n",
            "Epoch  88 | ET 172.65 min | Avg Losses >> G/D 988.41/-111.42 [D-Real: 862.25 D-Fake: -988.41]\n",
            "Epoch  89 | ET 174.60 min | Avg Losses >> G/D 1138.71/-50.38 [D-Real: 1063.41 D-Fake: -1138.71]\n",
            "Epoch  90 | ET 176.54 min | Avg Losses >> G/D 1267.88/-45.34 [D-Real: 1180.14 D-Fake: -1267.88]\n",
            "Epoch  91 | ET 178.46 min | Avg Losses >> G/D 1045.65/-80.65 [D-Real: 953.01 D-Fake: -1045.65]\n",
            "Epoch  92 | ET 180.39 min | Avg Losses >> G/D 921.28/-77.71 [D-Real: 838.77 D-Fake: -921.28]\n",
            "Epoch  93 | ET 182.32 min | Avg Losses >> G/D 1175.51/-77.79 [D-Real: 1082.89 D-Fake: -1175.51]\n",
            "Epoch  94 | ET 184.25 min | Avg Losses >> G/D 1178.53/-85.03 [D-Real: 1088.52 D-Fake: -1178.53]\n",
            "Epoch  95 | ET 186.18 min | Avg Losses >> G/D 1303.58/-112.88 [D-Real: 1163.08 D-Fake: -1303.58]\n",
            "Epoch  96 | ET 188.12 min | Avg Losses >> G/D 1410.55/-94.17 [D-Real: 1300.10 D-Fake: -1410.55]\n",
            "Epoch  97 | ET 190.04 min | Avg Losses >> G/D 1359.53/-99.30 [D-Real: 1242.26 D-Fake: -1359.53]\n",
            "Epoch  98 | ET 191.98 min | Avg Losses >> G/D 1421.27/-114.08 [D-Real: 1291.66 D-Fake: -1421.27]\n",
            "Epoch  99 | ET 193.91 min | Avg Losses >> G/D 1264.28/-114.85 [D-Real: 1139.11 D-Fake: -1264.28]\n",
            "Epoch 100 | ET 195.84 min | Avg Losses >> G/D 1437.85/-140.52 [D-Real: 1254.82 D-Fake: -1437.85]\n"
          ],
          "name": "stdout"
        }
      ]
    },
    {
      "cell_type": "code",
      "metadata": {
        "id": "FoPvQ1sBAjYt",
        "colab_type": "code",
        "colab": {
          "base_uri": "https://localhost:8080/",
          "height": 458
        },
        "outputId": "4bbec1a5-919c-427b-b992-94e65f4c0140"
      },
      "source": [
        "import itertools\n",
        "\n",
        "\n",
        "fig = plt.figure(figsize=(8, 6))\n",
        "\n",
        "## Plotting the losses\n",
        "ax = fig.add_subplot(1, 1, 1)\n",
        "g_losses = [item[0] for item in itertools.chain(*all_losses)]\n",
        "d_losses = [item[1] for item in itertools.chain(*all_losses)]\n",
        "plt.plot(g_losses, label='Generator loss', alpha=0.95)\n",
        "plt.plot(d_losses, label='Discriminator loss', alpha=0.95)\n",
        "plt.legend(fontsize=20)\n",
        "ax.set_xlabel('Iteration', size=15)\n",
        "ax.set_ylabel('Loss', size=15)\n",
        "\n",
        "epochs = np.arange(1, 101)\n",
        "epoch2iter = lambda e: e*len(all_losses[-1])\n",
        "epoch_ticks = [1, 20, 40, 60, 80, 100]\n",
        "newpos   = [epoch2iter(e) for e in epoch_ticks]\n",
        "ax2 = ax.twiny()\n",
        "ax2.set_xticks(newpos)\n",
        "ax2.set_xticklabels(epoch_ticks)\n",
        "ax2.xaxis.set_ticks_position('bottom')\n",
        "ax2.xaxis.set_label_position('bottom')\n",
        "ax2.spines['bottom'].set_position(('outward', 60))\n",
        "ax2.set_xlabel('Epoch', size=15)\n",
        "ax2.set_xlim(ax.get_xlim())\n",
        "ax.tick_params(axis='both', which='major', labelsize=15)\n",
        "ax2.tick_params(axis='both', which='major', labelsize=15)\n",
        "\n",
        "#plt.savefig('images/ch17-wdcgan-learning-curve.pdf')\n",
        "plt.show()"
      ],
      "execution_count": 11,
      "outputs": [
        {
          "output_type": "display_data",
          "data": {
            "image/png": "[encoded data removed]",
            "text/plain": [
              "<Figure size 576x432 with 2 Axes>"
            ]
          },
          "metadata": {
            "tags": []
          }
        }
      ]
    },
    {
      "cell_type": "code",
      "metadata": {
        "id": "382-VKJzAjYy",
        "colab_type": "code",
        "colab": {
          "base_uri": "https://localhost:8080/",
          "height": 783
        },
        "outputId": "6dce5955-bbd7-4f2b-b07c-2647ff023c36"
      },
      "source": [
        "selected_epochs = [1, 2, 4, 10, 50, 100]\n",
        "fig = plt.figure(figsize=(10, 14))\n",
        "for i,e in enumerate(selected_epochs):\n",
        "    for j in range(5):\n",
        "        ax = fig.add_subplot(6, 5, i*5+j+1)\n",
        "        ax.set_xticks([])\n",
        "        ax.set_yticks([])\n",
        "        if j == 0:\n",
        "            ax.text(\n",
        "                -0.06, 0.5, 'Epoch {}'.format(e),\n",
        "                rotation=90, size=18, color='red',\n",
        "                horizontalalignment='right',\n",
        "                verticalalignment='center', \n",
        "                transform=ax.transAxes)\n",
        "        \n",
        "        image = epoch_samples[e-1][j]\n",
        "        ax.imshow(image, cmap='gray_r')\n",
        "    \n",
        "#plt.savefig('images/ch17-wdcgan-samples.pdf')\n",
        "plt.show()"
      ],
      "execution_count": 12,
      "outputs": [
        {
          "output_type": "display_data",
          "data": {
            "image/png": "[encoded data removed]",
            "text/plain": [
              "<Figure size 720x1008 with 30 Axes>"
            ]
          },
          "metadata": {
            "tags": []
          }
        }
      ]
    }
  ]
}